{
 "cells": [
  {
   "cell_type": "markdown",
   "id": "5a6ca524",
   "metadata": {},
   "source": [
    "# 3. Inflação & deflação\n",
    "(EN: **inflation / deflation**)"
   ]
  },
  {
   "cell_type": "markdown",
   "id": "39791554",
   "metadata": {},
   "source": [
    "Um fato da vida é que preços de bens (comida, roupas, habitação etc) variam com o tempo. \n",
    "\n",
    "Quando essa variação é positiva (preços sobem), chamamos esse fenômeno de **inflação**; no caso de ela ser negativa (preços baixam), chamamos de **deflação**."
   ]
  },
  {
   "cell_type": "markdown",
   "id": "fa07207b",
   "metadata": {},
   "source": [
    "Quais preços? Onde? É necessário tomar algumas decisões: você mesmo pode ir ao seu mercado local, escolher meia dúzia de produtos e calcular uma média ponderada dos preços deles. Daqui a um mês, você repete o exercício e vê se esse preço ponderado sobe ou desce."
   ]
  },
  {
   "cell_type": "markdown",
   "id": "4529c217",
   "metadata": {},
   "source": [
    "> Aqui, não vamos ainda entrar no mérito de *por que* preços sobem ou descem - você deve ter um entendimento baseado no vídeo do Ray Dalio, cujo link repetimos [aqui](https://www.youtube.com/watch?v=PHe0bXAIuk0) por bondade. O ponto é que eles variam - e isso afeta o poder de compra do consumidor."
   ]
  },
  {
   "cell_type": "markdown",
   "id": "92ae0c4d",
   "metadata": {},
   "source": [
    "### O IPCA"
   ]
  },
  {
   "cell_type": "markdown",
   "id": "80115418",
   "metadata": {},
   "source": [
    "O **IPCA** (Índice de Preços ao Consumidor Amplo) é o exemplo brasileiro de um CPI (**Consumer Price Index**): um índice que agrega informações relativas a preços de bens para o consumidor.\n",
    "\n",
    "Ele é calculado mensalmente pelo IBGE, e é considerado como nosso termômetro oficial de inflação. O valor dele é normalizado em 100 em Dez/1993.\n",
    "\n",
    "> Veja [aqui](https://www.btgpactualdigital.com/como-investir/artigos/financas/ipca-o-que-e?cmpid=c04:m05:google:11177116067::110394111315&utm_medium=spl&utm_source=google&utm_campaign=11177116067&utm_content=110394111315&creative=603002635856&adposition=&keyword=&matchtype=&targetid=dsa-1592469244208&device=c&feeditemid=&loc_interest_ms=&loc_physical_ms=1001773&placement=&s_kwcid=AL!9288!3!603002635856!!!g!!&gclid=Cj0KCQjwy5maBhDdARIsAMxrkw0emDxCz87_aiuiq4rvK4THDOiB09EJYV0Nxq6SSAU7b7hNcbmTvs4aAuAVEALw_wcB) mais detalhes sobre o cálculo do IPCA."
   ]
  },
  {
   "cell_type": "markdown",
   "id": "6e52a5b8",
   "metadata": {},
   "source": [
    "> O IPCA se quebra em várias sub-categorias (por bens e região): ver [aqui](https://www.ibge.gov.br/estatisticas/economicas/precos-e-custos/9256-indice-nacional-de-precos-ao-consumidor-amplo.html?edicao=32709&t=destaques) uma interface interativa."
   ]
  },
  {
   "cell_type": "markdown",
   "id": "2642f251",
   "metadata": {},
   "source": [
    "Note que a inflação é medida pelas **variações do IPCA**: se ele cresce, é porque houve inflação; se ele diminui, houve deflação."
   ]
  },
  {
   "cell_type": "markdown",
   "id": "bfa74101",
   "metadata": {},
   "source": [
    "Por exemplo: no fim de janeiro/2017, o IPCA estava em 4793.85 pontos; no fim de fevereiro ele fechou em 4809.67. Isso significa que a inflação de fevereiro/2017, segundo o IPCA, é\n",
    "\n",
    "$$i_\\mathrm{2017/02} = \\frac{\\mathrm{IPCA_{2017/02} - IPCA_{2017/01}}}{\\mathrm{IPCA_{2017/01}}} = \\frac{4809.67 - 4793.85}{4794.85} = 0.33\\%$$"
   ]
  },
  {
   "cell_type": "markdown",
   "id": "1e97fa8d",
   "metadata": {},
   "source": [
    "> É **muito** comum ouvir frases como \"O IPCA de Fev/2017 foi de 0.33%\". Essa frase é um abuso de linguagem: o que ela quer dizer é que o IPCA viu uma variação percentual de 0.33% no mês de Fev/2017 em relação ao mês anterior."
   ]
  },
  {
   "cell_type": "markdown",
   "id": "72143838",
   "metadata": {},
   "source": [
    "E quando dizemos que o **IPCA acumulado** ao longo de um ano, por exemplo? Novamente este é um abuso de linguagem; o que ele quer dizer é a variação percentual do IPCA entre dezembro daquele ano e dezembro do ano anterior. Por exemplo, em 2016 observamos um acumulado de 6.28%. Esse valor provém do fato que\n",
    "\n",
    "$$\\mathrm{IPCA_{2016/12}} = 4775.70$$\n",
    "$$\\mathrm{IPCA_{2015/12}} = 4493.17$$\n",
    "\n",
    "e a variação percentual entre eles é de 6.28%."
   ]
  },
  {
   "cell_type": "markdown",
   "id": "1c75c491",
   "metadata": {},
   "source": [
    "### O IPCA acumulado\n",
    "\n",
    "O valor acumulado anual **não** é igual à soma das variações mês a mês do IPCA ao longo do ano! Seja a inflação observada entre dois instantes $t_0$ e $t_f$ definida como\n",
    "\n",
    "$$\\pi(t_0, t_f) := \\frac{\\mathrm{IPCA}_{t_f} - \\mathrm{IPCA}_{t_0}}{\\mathrm{IPCA}_{t_0}}$$\n"
   ]
  },
  {
   "cell_type": "markdown",
   "id": "6e227c28",
   "metadata": {},
   "source": [
    "> A notação $\\pi$ para inflação é padrão."
   ]
  },
  {
   "cell_type": "markdown",
   "id": "1fbe1e70",
   "metadata": {},
   "source": [
    "Se tivermos três meses distintos $t_a < t_b < t_c$, o fato é que\n",
    "\n",
    "$$\\pi(t_a,t_b) + \\pi(t_b, t_c) \\neq \\pi(t_a, t_c)$$"
   ]
  },
  {
   "cell_type": "markdown",
   "id": "c09dfab5",
   "metadata": {},
   "source": [
    "Por outro lado, assim como no caso da Selic, produtos (e não somas) são nossos amigos. Aqui, *é verdade* que\n",
    "\n",
    "$$(1+\\pi(t_a, t_b))(1+\\pi(t_b, t_c)) = 1 + \\pi(t_a, t_c)$$"
   ]
  },
  {
   "cell_type": "markdown",
   "id": "b4864538",
   "metadata": {},
   "source": [
    "e, usando argumentos idênticos aos do caso da Selic, podemos ver que se as variações mês-a-mês são $\\ll 1$, então\n",
    "\n",
    "$$\\pi(t_a, t_c) \\approx \\exp[\\pi(t_a, t_b) + \\pi(t_b, t_c)] - 1$$"
   ]
  },
  {
   "cell_type": "code",
   "execution_count": 14,
   "id": "5398aac0",
   "metadata": {},
   "outputs": [],
   "source": [
    "import numpy as np\n",
    "import matplotlib.pyplot as plt\n",
    "import requests\n",
    "import pandas as pd\n",
    "from datetime import datetime\n",
    "\n",
    "pd.options.mode.chained_assignment = None "
   ]
  },
  {
   "cell_type": "code",
   "execution_count": 15,
   "id": "75794f16",
   "metadata": {},
   "outputs": [],
   "source": [
    "class IpcaLoader(DataLoader):\n",
    "\n",
    "    def load_data_from_range(self, t0=None, tf=None):\n",
    "        \"\"\"\n",
    "        Downloads IPCA data (absolute value of index). \n",
    "        OBS: the resulting DataFrame will have indices in the last day of the month, ie. the entry for\n",
    "        the IPCA value calculated by the end of Oct/2022 will be in index 2022-10-31\n",
    "        \n",
    "        Ref: \n",
    "        https://dados.gov.br/dataset/ia-indice-nacional-de-precos-ao-consumidor-amplo-ipca/\n",
    "        resource/c2c5d52f-4b7d-4f07-a26c-5614b2b54c1e\n",
    "\n",
    "        Example:\n",
    "        \n",
    "        from datetime import datetime\n",
    "        data = IpcaLoader().load_data_from_range(t0=datetime(2010,12,1))\n",
    "        df = data.get_pandas()\n",
    "        \n",
    "\n",
    "        \"\"\"\n",
    "\n",
    "        if tf is None:\n",
    "            tf = pd.to_datetime('today')\n",
    "        \n",
    "        if t0 is None:\n",
    "            t0 = tf - pd.DateOffset(years=1)\n",
    "\n",
    "        t0_str, tf_str = t0.strftime('%Y%m'), tf.strftime('%Y%m')\n",
    "        self._download_series(t0_str, tf_str)\n",
    "        self._json_to_dataframe()\n",
    "        \n",
    "        return self\n",
    "            \n",
    "    def _download_series(self, t0_str, tf_str):\n",
    "        \"\"\"API instructions: https://apisidra.ibge.gov.br/home/ajuda\"\"\"\n",
    "        \n",
    "        url = 'https://apisidra.ibge.gov.br/values/t/1737/n1/all/v/all/' + \\\n",
    "        f'p/{t0_str}-{tf_str}/d/v63%202,v69%202,v2266%2013,v2263%202,v2264%202,' + \\\n",
    "        'v2265%202?formato=json'\n",
    "        \n",
    "        req = requests.get(url)\n",
    "        req.raise_for_status()\n",
    "        \n",
    "        self.json = req.json()\n",
    "        return\n",
    "    \n",
    "    def _json_to_dataframe(self):\n",
    "        \n",
    "        from pandas.tseries.offsets import MonthEnd\n",
    "        \n",
    "        ipca_raw = pd.DataFrame(self.json)\n",
    "        df = ipca_raw[ipca_raw['D2N'].isin(['IPCA - Número-índice (base: dezembro de 1993 = 100)'])]\n",
    "        df['date'] = pd.to_datetime(df['D3C'], format='%Y%m') + MonthEnd(0)\n",
    "        df = df.set_index('date')\n",
    "        df['ipca'] = df['V'].astype(float)\n",
    "        \n",
    "        self.df = df[['ipca']]\n",
    "        return"
   ]
  },
  {
   "cell_type": "code",
   "execution_count": 16,
   "id": "1ab25b5a",
   "metadata": {},
   "outputs": [
    {
     "name": "stdout",
     "output_type": "stream",
     "text": [
      "CPU times: user 29.2 ms, sys: 7.31 ms, total: 36.5 ms\n",
      "Wall time: 6.83 s\n"
     ]
    }
   ],
   "source": [
    "%%time\n",
    "data2 = IpcaLoader().load_data_from_range(t0=datetime(2010, 1,1))\n",
    "ipca = data2.get_pandas()"
   ]
  },
  {
   "cell_type": "code",
   "execution_count": 17,
   "id": "65f07ec8",
   "metadata": {},
   "outputs": [
    {
     "data": {
      "image/png": "[encoded data removed]",
      "text/plain": [
       "<Figure size 432x288 with 1 Axes>"
      ]
     },
     "metadata": {
      "needs_background": "light"
     },
     "output_type": "display_data"
    }
   ],
   "source": [
    "ipca.plot()\n",
    "plt.ylabel(\"IPCA absoluto}\")\n",
    "plt.show()"
   ]
  },
  {
   "cell_type": "markdown",
   "id": "111b4249",
   "metadata": {},
   "source": [
    "**Um exemplo de como a soma das variações mensais é diferente da inflação acumulada**"
   ]
  },
  {
   "cell_type": "code",
   "execution_count": 18,
   "id": "ced03968",
   "metadata": {},
   "outputs": [],
   "source": [
    "ipca_2017 = ipca[ipca.index.to_series().isin(pd.date_range(start='2016-12-01', end='2017-12-31'))]\n",
    "ipca_2017_monthly = (ipca_2017/ipca_2017.shift(1) - 1).dropna()"
   ]
  },
  {
   "cell_type": "code",
   "execution_count": 19,
   "id": "71d4b938",
   "metadata": {},
   "outputs": [
    {
     "name": "stdout",
     "output_type": "stream",
     "text": [
      "Soma das inflações mês-a-mês em 2017: 2.91 %\n"
     ]
    }
   ],
   "source": [
    "print(\"Soma das inflações mês-a-mês em 2017:\", round(100*ipca_2017_monthly.sum().iloc[0],3), \"%\")"
   ]
  },
  {
   "cell_type": "code",
   "execution_count": 20,
   "id": "25151917",
   "metadata": {},
   "outputs": [
    {
     "name": "stdout",
     "output_type": "stream",
     "text": [
      "Inflação acumulada em 2017: 2.947 %\n"
     ]
    }
   ],
   "source": [
    "ipca_2017_year = (ipca.loc['2017-12-31']/ipca.loc['2016-12-31']-1).iloc[0]\n",
    "print(\"Inflação acumulada em 2017:\", round(100*ipca_2017_year,3), \"%\")"
   ]
  },
  {
   "cell_type": "markdown",
   "id": "4133b1f3",
   "metadata": {},
   "source": [
    "Veja que a diferença é sutil, mas não nula."
   ]
  },
  {
   "cell_type": "markdown",
   "id": "74e5e009",
   "metadata": {},
   "source": [
    "## A relação da inflação e a taxa de juros"
   ]
  },
  {
   "cell_type": "code",
   "execution_count": 23,
   "id": "a9abf7f1",
   "metadata": {},
   "outputs": [],
   "source": [
    "selic = pd.read_parquet('../_data/selic.pqt')"
   ]
  },
  {
   "cell_type": "markdown",
   "id": "a8607561",
   "metadata": {},
   "source": [
    "Vamos plotar a curva de IPCA acumulado de 12 meses vs. a Selic:\n",
    "    \n",
    "> Por quê? Sabemos que um dos papéis do banco central é o controle da inflação via redefinição da taxa de juros básica, a Selic. Assim, esperamos que cenários de inflação crescente sejam acompanhados de aumentos na taxa de juros (com um delay), e, de forma análoga, que desacelerações na inflação sejam seguidas de reduções na Selic."
   ]
  },
  {
   "cell_type": "code",
   "execution_count": 24,
   "id": "8e04e0eb",
   "metadata": {},
   "outputs": [],
   "source": [
    "ipca['delta_year'] = ipca['ipca']/ipca['ipca'].shift(12) - 1"
   ]
  },
  {
   "cell_type": "code",
   "execution_count": 25,
   "id": "8a7d93f7",
   "metadata": {},
   "outputs": [
    {
     "data": {
      "image/png": "[encoded data removed]",
      "text/plain": [
       "<Figure size 432x288 with 2 Axes>"
      ]
     },
     "metadata": {
      "needs_background": "light"
     },
     "output_type": "display_data"
    }
   ],
   "source": [
    "fig, ax1 = plt.subplots()\n",
    "\n",
    "ax2 = ax1.twinx()\n",
    "ipca_line_year = ax1.plot(ipca.index, ipca.delta_year.values, label='$\\Delta$ IPCA 12 months', color='red')\n",
    "selic_line = ax2.plot(selic.index, selic['valor'], label='Selic', color='blue')\n",
    "lns = ipca_line_year + selic_line \n",
    "labs = [l.get_label() for l in lns]\n",
    "ax1.legend(lns, labs, loc=0)\n",
    "plt.tight_layout()\n",
    "\n",
    "ax1.set_ylabel('IPCA', color='red')\n",
    "ax2.set_ylabel('Selic', color='blue')\n",
    "plt.show()"
   ]
  },
  {
   "cell_type": "markdown",
   "id": "9f563695",
   "metadata": {},
   "source": [
    "De fato:\n",
    "* Quando o IPCA começa a crescer, a Selic é impulsionada também;\n",
    "* Quando o IPCA começa a baixar, a Selic é abaixada gradualmente"
   ]
  },
  {
   "cell_type": "markdown",
   "id": "210bc8bd",
   "metadata": {},
   "source": [
    "## A taxa de juros real: equação de Fisher"
   ]
  },
  {
   "cell_type": "markdown",
   "id": "eeba8baf",
   "metadata": {},
   "source": [
    "Um valor financeiro - 100 reais, por exemplo - sozinho não vale nada. \n",
    "O dinheiro vale aquilo que ele puder comprar; se um saco de arroz custa 10 reais, então 100 reais são 10 sacos, enquanto se o saco custa o dobro, só poderemos comprar 5."
   ]
  },
  {
   "cell_type": "markdown",
   "id": "11f1fe6c",
   "metadata": {},
   "source": [
    "Eu e você fazemos um acordo. Eu te empresto $M_0$ reais agora em $t=0$, a serem devolvidos daqui um tempo $T$. A taxa de juros que colocaremos nesse empréstimo é $i$, de forma que eu receberei de volta $M_0 (1 + i T)$."
   ]
  },
  {
   "cell_type": "markdown",
   "id": "569bd2a5",
   "metadata": {},
   "source": [
    "Porém, durante este tempo, ocorreu inflação. Um bem que antes custava 1 real agora custa $1+\\pi T$ em que $\\pi$ é a inflação média neste período.\n",
    "\n",
    "> Por exemplo, se $T= 1 \\mbox{ ano}$ e o IPCA aumentou de 3000 para 3500 pontos, então \n",
    "\n",
    "$$\\pi = \\frac{3500}{3000}-1 = 16.67 \\mbox{%/ano}$$"
   ]
  },
  {
   "cell_type": "markdown",
   "id": "b2db4f55",
   "metadata": {},
   "source": [
    "> As letras $i$ e $\\pi$ para *juros nominal* e *inflação* são padrão nessa literatura."
   ]
  },
  {
   "cell_type": "markdown",
   "id": "38d45492",
   "metadata": {},
   "source": [
    "Ou seja: se antes eu comprava $x$ bens com meus $M_0$ reais originais, agora, com esses mesmos $M_0$ reais, eu só posso comprar $x/(1+\\pi T)$. Em termos de poder aquisitivo, eu fui de $M_0$ reais em $t = 0$ a \n",
    "\n",
    "$$M_T = M_0 \\frac{1 + iT}{1 + \\pi T}$$"
   ]
  },
  {
   "cell_type": "markdown",
   "id": "eb91a029",
   "metadata": {},
   "source": [
    "em $t=T$: o juros $i$ contribui de forma a aumentar meu poder aquisitivo, enquanto a inflação contribui na direção oposta.\n",
    "\n",
    "A **taxa real de juros** neste período sobre o empréstimo considerada é o valor $r$ tal que \n",
    "\n",
    "$$M_T = M_0 ( 1+r T)$$"
   ]
  },
  {
   "cell_type": "markdown",
   "id": "e50ffe38",
   "metadata": {},
   "source": [
    "Igualando as duas expressões, temos\n",
    "\n",
    "$$\\boxed{1 + rT = \\frac{1+ i T}{1 + \\pi T}}$$"
   ]
  },
  {
   "cell_type": "markdown",
   "id": "c179d090",
   "metadata": {},
   "source": [
    "Esta é a equação de Fisher. Ela costuma ser usada numa forma simplificada, notando que podemos aproximar o denominador via uma série geométrica:\n",
    "\n",
    "$$\\frac{1}{1 + \\pi T} = 1 - \\pi T + O(\\pi^2 T^2)$$"
   ]
  },
  {
   "cell_type": "markdown",
   "id": "bb7b6fb7",
   "metadata": {},
   "source": [
    "de onde\n",
    "\n",
    "$$1 + rT  = 1 + iT - \\pi T + i \\pi T^2 + O(\\pi^2 T^2)$$"
   ]
  },
  {
   "cell_type": "markdown",
   "id": "9f6ca574",
   "metadata": {},
   "source": [
    "Ignorando termos quadráticos em $\\pi$, $i$ e $i \\pi$ obtemos\n",
    "\n",
    "$$\\boxed{r \\approx i - \\pi}$$"
   ]
  },
  {
   "cell_type": "markdown",
   "id": "0b509d4c",
   "metadata": {},
   "source": [
    "Apesar da simplicidade desta equação, sugerimos usar a original, sem aproximações, acima.\n",
    "\n",
    "Note que a taxa de juros real pode mesmo ser negativa, se a inflação for alta demais."
   ]
  },
  {
   "cell_type": "markdown",
   "id": "39787a44",
   "metadata": {},
   "source": [
    "### Cálculo da Selic real "
   ]
  },
  {
   "cell_type": "markdown",
   "id": "7a712171",
   "metadata": {},
   "source": [
    "> Notícias sobre a taxa de juros real: [link](https://valorinveste.globo.com/mercados/moedas-e-juros/noticia/2022/09/21/brasil-continua-com-o-juro-real-mais-alto-do-mundo-apos-manutencao-da-selic.ghtml)\n",
    "\n"
   ]
  },
  {
   "cell_type": "code",
   "execution_count": 41,
   "id": "e8930e8e",
   "metadata": {},
   "outputs": [],
   "source": [
    "# TODO: tinha algo errado. A ser refeito"
   ]
  },
  {
   "cell_type": "code",
   "execution_count": null,
   "id": "44330ad8",
   "metadata": {},
   "outputs": [],
   "source": []
  }
 ],
 "metadata": {
  "kernelspec": {
   "display_name": "Python 3",
   "language": "python",
   "name": "python3"
  },
  "language_info": {
   "codemirror_mode": {
    "name": "ipython",
    "version": 3
   },
   "file_extension": ".py",
   "mimetype": "text/x-python",
   "name": "python",
   "nbconvert_exporter": "python",
   "pygments_lexer": "ipython3",
   "version": "3.8.8"
  }
 },
 "nbformat": 4,
 "nbformat_minor": 5
}
