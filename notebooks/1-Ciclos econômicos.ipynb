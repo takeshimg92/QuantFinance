{
 "cells": [
  {
   "cell_type": "markdown",
   "id": "c7fb0aaf",
   "metadata": {},
   "source": [
    "# Ciclos econômicos"
   ]
  },
  {
   "cell_type": "markdown",
   "id": "5340354a",
   "metadata": {},
   "source": [
    "Assista o vídeo \"How the Economic Machine Works\" \n",
    "\n",
    "* [Versão em inglês](https://www.youtube.com/watch?v=PHe0bXAIuk0)\n",
    "* [Legendado em português](https://www.youtube.com/watch?v=W8TFqyWUud0)"
   ]
  },
  {
   "cell_type": "markdown",
   "id": "5c1f1a75",
   "metadata": {},
   "source": [
    "Irei assumir nas próximas seções que você está familiarizado com os conteúdos deste vídeo."
   ]
  },
  {
   "cell_type": "code",
   "execution_count": 2,
   "id": "cdd5ddfb",
   "metadata": {},
   "outputs": [],
   "source": [
    "# TODO: write this section"
   ]
  },
  {
   "cell_type": "markdown",
   "id": "53b2a38e",
   "metadata": {},
   "source": [
    "# Preâmbulo: sobre unidades"
   ]
  },
  {
   "cell_type": "markdown",
   "id": "474aca6a",
   "metadata": {},
   "source": [
    "Seremos bastante chatos quanto ao uso correto de unidades para evitar qualquer tipo de confusão.\n",
    "\n",
    "**Porcentagens**\n",
    "\n",
    "Uma prática (infelizmente) comum no mercado financeiro é de reportar valores em *porcentagem*. Isto é, ao puxar um dado de um banco de dados com o valor 2.37, o que ele quer dizer de fato é 2.37\\%, ou 0.0237."
   ]
  },
  {
   "cell_type": "markdown",
   "id": "359236d2",
   "metadata": {},
   "source": [
    "Assim, para deixar as coisas claras, iremos muitas vezes reportar \"%\" em si como uma unidade. Por exemplo, uma taxa de juros (como apresentaremos abaixo) é equivalentemente\n",
    "\n",
    "$$3 \\%\\, \\times\\mbox{tempo}^{-1} = 0.03 \\,\\mbox{tempo}^{-1}$$"
   ]
  },
  {
   "cell_type": "markdown",
   "id": "2047fe20",
   "metadata": {},
   "source": [
    "**Moeda**"
   ]
  },
  {
   "cell_type": "markdown",
   "id": "079d1906",
   "metadata": {},
   "source": [
    "Nossa unidade básica para dinheiro será o real (R\\\\$), ou simplesmente \"dinheiros\" numa moeda genérica.\n",
    "Naturalmente, quando considerarmos questões de taxas de câmbio entre duas moedas diferentes, iremos deixar bem clara a distinção.\n"
   ]
  },
  {
   "cell_type": "code",
   "execution_count": 3,
   "id": "6a313920",
   "metadata": {},
   "outputs": [],
   "source": [
    "# TODO: colocar discussão sobre nunca usarmos % nos nossos scripts, sempre devolvendo o valor float"
   ]
  }
 ],
 "metadata": {
  "kernelspec": {
   "display_name": "Python 3",
   "language": "python",
   "name": "python3"
  },
  "language_info": {
   "codemirror_mode": {
    "name": "ipython",
    "version": 3
   },
   "file_extension": ".py",
   "mimetype": "text/x-python",
   "name": "python",
   "nbconvert_exporter": "python",
   "pygments_lexer": "ipython3",
   "version": "3.8.8"
  }
 },
 "nbformat": 4,
 "nbformat_minor": 5
}
