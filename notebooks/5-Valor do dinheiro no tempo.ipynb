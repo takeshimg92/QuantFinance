{
 "cells": [
  {
   "cell_type": "markdown",
   "id": "f6b93a19",
   "metadata": {},
   "source": [
    "# O valor do dinheiro no tempo\n",
    "(EN: **time value of money** ou **TVM**)"
   ]
  },
  {
   "cell_type": "markdown",
   "id": "fe65fd44",
   "metadata": {},
   "source": [
    "Ganhar 100 reais hoje vale mais que ganhar estes mesmos 100 reais amanhã. \n",
    "\n",
    "Isso é intuitivo: se eu tiver um real hoje, posso usar ele em algo rentável. É o mesmo custo de oportunidade que mencionamos na seção interior, que justifica a existência de juros.\n",
    "\n",
    "A taxa livre de risco (Selic no nosso caso) nos dá uma receita para converter valores entre diferentes momentos do tempo. A ideia é: **dinheiro hoje vale mais que amanhã**, pois um dinheiro hoje pode ser investido num título público (ie. emprestado ao governo) e amanhã ele terá valorizado \n",
    "\n",
    "### Cálculo simples: juros constantes\n",
    "\n",
    "O cálculo comum (disponível em livros) supoõe $r$ constante. Nesse caso, \n",
    "\n"
   ]
  },
  {
   "cell_type": "code",
   "execution_count": 1,
   "id": "50a1b309",
   "metadata": {},
   "outputs": [],
   "source": [
    "# TODO: continue"
   ]
  }
 ],
 "metadata": {
  "kernelspec": {
   "display_name": "Python 3",
   "language": "python",
   "name": "python3"
  },
  "language_info": {
   "codemirror_mode": {
    "name": "ipython",
    "version": 3
   },
   "file_extension": ".py",
   "mimetype": "text/x-python",
   "name": "python",
   "nbconvert_exporter": "python",
   "pygments_lexer": "ipython3",
   "version": "3.8.8"
  }
 },
 "nbformat": 4,
 "nbformat_minor": 5
}
