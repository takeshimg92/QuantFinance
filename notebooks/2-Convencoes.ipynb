{
 "cells": [
  {
   "cell_type": "markdown",
   "id": "b836ac0b",
   "metadata": {},
   "source": [
    "# Preâmbulo: sobre unidades\n",
    "\n",
    "Seremos bastante chatos quanto ao uso correto de unidades para evitar qualquer tipo de confusão.\n",
    "\n",
    "**Porcentagens**\n",
    "\n",
    "Uma prática (infelizmente) comum no mercado financeiro é de reportar valores em *porcentagem*. Isto é, ao puxar um dado de um banco de dados com o valor 2.37, o que ele quer dizer de fato é 2.37\\%, ou 0.0237.\n",
    "\n",
    "Assim, para deixar as coisas claras, iremos muitas vezes reportar \"%\" em si como uma unidade. Por exemplo, uma taxa de juros (como apresentaremos abaixo) é equivalentemente\n",
    "\n",
    "$$3 \\%\\, \\times\\mbox{tempo}^{-1} = 0.03 \\,\\mbox{tempo}^{-1}$$\n",
    "\n",
    "**Moeda**\n",
    "\n",
    "Nossa unidade básica para dinheiro será o real (R\\\\$), ou simplesmente \"dinheiros\" numa moeda genérica.\n",
    "Naturalmente, quando considerarmos questões de taxas de câmbio entre duas moedas diferentes, iremos deixar bem clara a distinção."
   ]
  },
  {
   "cell_type": "code",
   "execution_count": null,
   "id": "b77c2e51",
   "metadata": {},
   "outputs": [],
   "source": [
    "# TODO: colocar discussão sobre nunca usarmos % nos nossos scripts, sempre devolvendo o valor float"
   ]
  }
 ],
 "metadata": {
  "kernelspec": {
   "display_name": "Python 3",
   "language": "python",
   "name": "python3"
  },
  "language_info": {
   "codemirror_mode": {
    "name": "ipython",
    "version": 3
   },
   "file_extension": ".py",
   "mimetype": "text/x-python",
   "name": "python",
   "nbconvert_exporter": "python",
   "pygments_lexer": "ipython3",
   "version": "3.8.8"
  }
 },
 "nbformat": 4,
 "nbformat_minor": 5
}
