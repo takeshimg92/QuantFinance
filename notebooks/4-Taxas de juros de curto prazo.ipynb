{
 "cells": [
  {
   "cell_type": "markdown",
   "id": "0afd34a0",
   "metadata": {},
   "source": [
    "# Taxas de juros de curto-prazo\n",
    "(EN: **interest rates**)"
   ]
  },
  {
   "cell_type": "markdown",
   "id": "ecd58e54",
   "metadata": {},
   "source": [
    "Se eu te empresto R\\\\$ 100, a serem devolvidos daqui a 1 mês, eu espero que você me pague mais que R\\\\$ 100 de volta. Isso faz sentido porque te emprestar um dinheiro tem um *custo de oportunidade*: em vez de deixar esse dinheiro com você, eu poderia usá-lo em outro investimento; para juntar numa caixinha para comprar um computador novo; etc.\n",
    "\n",
    "Se eu te peço, por exemplo, R\\\\$ 110 em troca, então a taxa de juros é de \n",
    "\n",
    "$$\\frac{\\mathrm{R\\$\\,} 110 -\\mathrm{R\\$\\,} 100}{\\mathrm{R\\$\\,}100 \\times 1 \\mbox{ mês}} = 0.10 \\mbox{/mês} =  10\\% \\mbox {/ mês}$$"
   ]
  },
  {
   "cell_type": "markdown",
   "id": "8bd49ef2",
   "metadata": {},
   "source": [
    "> **Unidades**: é importante notar que a unidade básica da taxa de juros é $\\mathrm{tempo}^{-1}$. Isso é importante porque raramente ela aparecerá sozinha, mas em geral multiplicando (ou sendo integrada contra) algum intervalo de tempo. "
   ]
  },
  {
   "cell_type": "markdown",
   "id": "dd60ef98",
   "metadata": {},
   "source": [
    "A equação básica é: se $M_0$ (unidade: dinheiros) é um empréstimo feito em $t=t_0$ a ser pago em $t=t$ por um valor $M_t$ (unidade: dinheiros) então a taxa de juros $r(t_0, t)$ (unidade: 1/tempo)\n",
    "é tal que\n",
    "\n",
    "$$\\boxed{M_t = M_0 (1 + r(t_0, t) \\Delta t)}$$"
   ]
  },
  {
   "cell_type": "markdown",
   "id": "e17cbc72",
   "metadata": {},
   "source": [
    "> Na escola, às vezes vemos a taxa de juros como um número puro (ex: no exemplo acima diríamos apenas que ela é 10\\%). Porém, essa visão não é benéfica: toda taxa de juros é atrelada à duração de algum empréstimo. Por isso, acima, colocamos explicitamente a dependência de $r$ nas variáveis $t_0, t$. Quando não for necessário, ou os tempos envolvidos estiverem implícitos, removeremos essa dependência para simplificar a notação."
   ]
  },
  {
   "cell_type": "markdown",
   "id": "13b8c338",
   "metadata": {},
   "source": [
    "**Todo empréstimo terá juros**; como veremos abaixo, empréstimos são a base de todos os produtos de renda fixa, logo, entender bem o conceito de juros é fundamental."
   ]
  },
  {
   "cell_type": "markdown",
   "id": "728790ab",
   "metadata": {},
   "source": [
    "## A Selic"
   ]
  },
  {
   "cell_type": "markdown",
   "id": "6e5830d2",
   "metadata": {},
   "source": [
    "No Brasil, muitas vezes falamos \"a taxa de juros subiu\". Qual taxa? A convenção subentendida aqui é que nos referimos à [**Selic**](https://www.bcb.gov.br/controleinflacao/taxaselic), que é definida a cada 45 dias via uma reunião do Comitê de Política Monetária (Copom) do Bacen."
   ]
  },
  {
   "cell_type": "markdown",
   "id": "c9b09a0a",
   "metadata": {},
   "source": [
    "**A Selic é a taxa de juros que o Governo brasileiro paga por empréstimos.** Como veremos mais para frente, essa taxa vai se propagando para todas as outras atreladas a diferentes empréstimos (por exemplo, entre bancos, ou entre um banco e uma pessoa física, e por ai vai)."
   ]
  },
  {
   "cell_type": "markdown",
   "id": "db3df4fe",
   "metadata": {},
   "source": [
    "> Gráfico da Selic vs. eventos históricos: https://clubedospoupadores.com/selic/meta "
   ]
  },
  {
   "cell_type": "markdown",
   "id": "bd82d088",
   "metadata": {},
   "source": [
    "### A taxa livre de risco e as \"Selic\"s por aí\n",
    "(EN: **risk-free rate**)"
   ]
  },
  {
   "cell_type": "markdown",
   "id": "81caeddf",
   "metadata": {},
   "source": [
    "Em finanças teóricas, a taxa livre de risco é uma taxa de juros mínima que não tem implica risco nenhum à parte que empresta o dinheiro. Ou seja: se eu empresto 100 reais para alguém com um juro total de 5% sobre algum período, então eu receberei 105 reais de volta ao final com 100% de certeza - não há risco de calote, de a outra parte desaparecer, etc.\n"
   ]
  },
  {
   "cell_type": "markdown",
   "id": "1d1048ae",
   "metadata": {},
   "source": [
    "No mundo real tudo tem riscos, mas é comum assumir que **empréstimos ao governo são livres de risco**. Assim, quando em artigos ou discussões aparecer a expressão de taxa livre de risco, instintivamente podem assumir que estamos falando da Selic."
   ]
  },
  {
   "cell_type": "markdown",
   "id": "149bd3af",
   "metadata": {},
   "source": [
    "Nos EUA, o equivalente do Copom é o Federal Open Market Committee (FOMC), também se encontrando um número fixo de vezes ao ano. O equivalende da Selic seria o Federal Funds Rate, que é definido num range."
   ]
  },
  {
   "cell_type": "markdown",
   "id": "156c913f",
   "metadata": {},
   "source": [
    "### Selic Meta vs. Over"
   ]
  },
  {
   "cell_type": "markdown",
   "id": "435ec8c0",
   "metadata": {},
   "source": [
    "A Selic definida pelo Copom é a chamada taxa **Selic Meta**, literalmente porque ela coloca uma meta no valor das taxa de juros.\n",
    "\n",
    "Na vida real, as taxas aplicadas entre instituições pode ter desvios em relação à Selic Meta.\n",
    "\n",
    "Todos os dias, instituições financeiras precisam fechar seu caixa, visando cumprir obrigações de capital e liquidez. Assim, haverá operações de empréstimos com horizonte diário que levam em consideração a Selic Meta.\n",
    "\n",
    "A média das taxas de juros dessas transações diárias é chamada de taxa **Selic Over.** (\"Over\" vindo de \"overnight\", dado que são transações voltadas a balanceamento de caixa no fim do dia). Historicamente, é comum observar \n",
    "\n",
    "Historicamente, no Brasil, a taxa Meta e a Over se diferem na ordem de 1 ponto percentual:\n",
    "\n",
    "$$r_\\mathrm{over} \\approx r_\\mathrm{meta} - \\mbox{0.1 %};$$\n",
    "\n",
    "por exemplo, se a meta estiver em 6.3%, a over deve estar próxima de 6.2%.\n",
    "\n",
    "> Em suma: a Selic Meta é o valor teórico estipulado pelo Copom. A Selic Over é o valor observado das taxas realizadas, naturalmente direcionado mas não idêntico à Selic Meta."
   ]
  },
  {
   "cell_type": "markdown",
   "id": "50482d5f",
   "metadata": {},
   "source": [
    "> Comparação das duas Selics: https://www.bcb.gov.br/controleinflacao/historicotaxasjuros"
   ]
  },
  {
   "cell_type": "markdown",
   "id": "f667398d",
   "metadata": {},
   "source": [
    "### Selic vs. DI vs. CDI"
   ]
  },
  {
   "cell_type": "markdown",
   "id": "3af90cef",
   "metadata": {},
   "source": [
    "A Selic define uma taxa de juros para empréstimos ao governo.\n",
    "\n",
    "Por outro lado, a **taxa DI** (de \"Depósitos Interbancários\") é a taxa de juros que bancos aplicam entre si para empréstimos. O instrumento para fazer esse empréstimo é o Certificado de Depósito Interbancário, o **CDI**.\n",
    "\n",
    "> O DI é uma taxa, enquanto o CDI é um instrumento financeiro. Porém, os termos são muitas vezes usados de forma intercambiável."
   ]
  },
  {
   "cell_type": "markdown",
   "id": "de195950",
   "metadata": {},
   "source": [
    "**O DI é extremamente próximo da Selic (Over).** Para efeitos práticos, consideraremos a Selic em todas as contas."
   ]
  },
  {
   "cell_type": "markdown",
   "id": "e819f285",
   "metadata": {},
   "source": [
    "## Baixando a Selic via API do Bacen\n",
    "[Referência](https://dadosabertos.bcb.gov.br/dataset/11-taxa-de-juros---selic/resource/b73edc07-bbac-430c-a2cb-b1639e605fa8)"
   ]
  },
  {
   "cell_type": "markdown",
   "id": "2d42a68b",
   "metadata": {},
   "source": [
    "Informações importantes:\n",
    "\n",
    "* O dado do Bacen vem em unidade $\\%/\\mbox{dia}$, e não $1/\\mbox{dia}$. Ou seja, para usá-lo, precisaremos dividi-lo por 100 para trazê-lo à escala absoluta.\n",
    "\n",
    "* A Selic obtida via está API é a Selic Over."
   ]
  },
  {
   "cell_type": "code",
   "execution_count": 7,
   "id": "2a61baf4",
   "metadata": {},
   "outputs": [],
   "source": [
    "import numpy as np\n",
    "import matplotlib.pyplot as plt\n",
    "import requests\n",
    "import pandas as pd\n",
    "from datetime import datetime\n",
    "\n",
    "pd.options.mode.chained_assignment = None "
   ]
  },
  {
   "cell_type": "markdown",
   "id": "d8c0d773",
   "metadata": {},
   "source": [
    "Usaremos uma classe abstrata para servir de blueprint para baixarmos dados de diversos indicadores:"
   ]
  },
  {
   "cell_type": "code",
   "execution_count": 5,
   "id": "8a84c0c1",
   "metadata": {},
   "outputs": [],
   "source": [
    "from dataloader import DataLoader"
   ]
  },
  {
   "cell_type": "code",
   "execution_count": 8,
   "id": "ab9f1dcb",
   "metadata": {},
   "outputs": [],
   "source": [
    "class SelicLoader(DataLoader):\n",
    "        \n",
    "    def load_data_from_range(self, t0=None, tf=None):\n",
    "        \"\"\"Loads Selic data from Bacen API. \n",
    "        \n",
    "        Baixa dados da taxa de juros que representa a taxa média ajustada\n",
    "        das operações compromissadas com prazo de um dia útil lastreadas com \n",
    "        títulos públicos federais custodiados no  Sistema Especial de Liquidação\n",
    "        e de Custódia (Selic).\n",
    "        \n",
    "        Dados são reportados em % ao dia. Ex: a value of 0.032927 for 2010-01-04\n",
    "        means that overnight operations had interest of 0.032927% on this day.\n",
    "\n",
    "        t0: initial time. A datetime.datetime object (default=None);\n",
    "            if let None, will download a 12-month interval prior to tf\n",
    "        tf: final time. A datetime.datetime object (default=None);\n",
    "            if let None, will be set to the current day         \n",
    "        \n",
    "        ----\n",
    "        Examples:\n",
    "\n",
    "        from datetime import datetime\n",
    "        SelicLoader().load_data_from_range(t0=datetime(2010,12,1))\n",
    "        \n",
    "        SelicLoader().load_data_from_range(t0=pd.to_datetime('2010-12-01'))\n",
    "        \"\"\"\n",
    "\n",
    "        if tf is None:\n",
    "            tf = pd.to_datetime('today')\n",
    "        \n",
    "        if t0 is None:\n",
    "            t0 = tf - pd.DateOffset(years=1)\n",
    "        \n",
    "        self.t0 = t0\n",
    "        self.tf = tf\n",
    "        \n",
    "        self._download_series(t0, tf)\n",
    "        self._json_to_dataframe()\n",
    "        \n",
    "        return self\n",
    "    \n",
    "    def _download_series(self, t0: datetime, tf: datetime):\n",
    "\n",
    "        url = 'https://api.bcb.gov.br/dados/serie/bcdata.sgs.11/dados?formato=json' + \\\n",
    "          f'&dataInicial={self._two_digits(t0.day)}/{self._two_digits(t0.month)}/{t0.year}' + \\\n",
    "          f'&dataFinal={self._two_digits(tf.day)}/{self._two_digits(tf.month)}/{tf.year}'\n",
    "\n",
    "        req = requests.get(url)\n",
    "        req.raise_for_status()\n",
    "        \n",
    "        self.json = req.json()\n",
    "        return\n",
    "    \n",
    "    def _json_to_dataframe(self):\n",
    "        \"\"\"\n",
    "        Metadata: https://www3.bcb.gov.br/sgspub/consultarmetadados/consultarMetadadosSeries.do?\n",
    "        method=consultarMetadadosSeriesInternet&hdOidSerieSelecionada=11\"\"\"\n",
    "        \n",
    "        df = pd.DataFrame(self.json)\n",
    "        df['data'] = pd.to_datetime(df['data'], format='%d/%m/%Y')\n",
    "        df['valor'] = df['valor'].astype(float).round(6) # dados com 6 casas\n",
    "        df = df.set_index('data')\n",
    "        self.df = df\n",
    "        return"
   ]
  },
  {
   "cell_type": "code",
   "execution_count": 9,
   "id": "3687bd58",
   "metadata": {},
   "outputs": [
    {
     "name": "stdout",
     "output_type": "stream",
     "text": [
      "CPU times: user 39.9 ms, sys: 15.2 ms, total: 55.1 ms\n",
      "Wall time: 4.45 s\n"
     ]
    }
   ],
   "source": [
    "%%time\n",
    "data = SelicLoader().load_data_from_range(t0=datetime(2010, 1,1))"
   ]
  },
  {
   "cell_type": "code",
   "execution_count": 10,
   "id": "0def7ef8",
   "metadata": {},
   "outputs": [],
   "source": [
    "selic = data.get_pandas()"
   ]
  },
  {
   "cell_type": "code",
   "execution_count": 11,
   "id": "540c813a",
   "metadata": {},
   "outputs": [
    {
     "data": {
      "image/png": "[encoded data removed]",
      "text/plain": [
       "<Figure size 432x288 with 1 Axes>"
      ]
     },
     "metadata": {
      "needs_background": "light"
     },
     "output_type": "display_data"
    }
   ],
   "source": [
    "selic.plot()\n",
    "plt.ylabel(\"Selic em %/dia\")\n",
    "plt.show()"
   ]
  },
  {
   "cell_type": "markdown",
   "id": "c06029bd",
   "metadata": {},
   "source": [
    "Note como a série da Selic é essencialmente uma função escada. Isso é esperado, pois ela é ajustada a cada 45 dias.\n",
    "\n",
    "Se olharmos as primeiras 10 entradas:"
   ]
  },
  {
   "cell_type": "code",
   "execution_count": 7,
   "id": "ca779815",
   "metadata": {},
   "outputs": [
    {
     "data": {
      "text/html": [
       "<div>\n",
       "<style scoped>\n",
       "    .dataframe tbody tr th:only-of-type {\n",
       "        vertical-align: middle;\n",
       "    }\n",
       "\n",
       "    .dataframe tbody tr th {\n",
       "        vertical-align: top;\n",
       "    }\n",
       "\n",
       "    .dataframe thead th {\n",
       "        text-align: right;\n",
       "    }\n",
       "</style>\n",
       "<table border=\"1\" class=\"dataframe\">\n",
       "  <thead>\n",
       "    <tr style=\"text-align: right;\">\n",
       "      <th></th>\n",
       "      <th>valor</th>\n",
       "    </tr>\n",
       "    <tr>\n",
       "      <th>data</th>\n",
       "      <th></th>\n",
       "    </tr>\n",
       "  </thead>\n",
       "  <tbody>\n",
       "    <tr>\n",
       "      <th>2009-12-31</th>\n",
       "      <td>0.032927</td>\n",
       "    </tr>\n",
       "    <tr>\n",
       "      <th>2010-01-04</th>\n",
       "      <td>0.032927</td>\n",
       "    </tr>\n",
       "    <tr>\n",
       "      <th>2010-01-05</th>\n",
       "      <td>0.032927</td>\n",
       "    </tr>\n",
       "    <tr>\n",
       "      <th>2010-01-06</th>\n",
       "      <td>0.032927</td>\n",
       "    </tr>\n",
       "    <tr>\n",
       "      <th>2010-01-07</th>\n",
       "      <td>0.032927</td>\n",
       "    </tr>\n",
       "    <tr>\n",
       "      <th>2010-01-08</th>\n",
       "      <td>0.032927</td>\n",
       "    </tr>\n",
       "    <tr>\n",
       "      <th>2010-01-11</th>\n",
       "      <td>0.032927</td>\n",
       "    </tr>\n",
       "    <tr>\n",
       "      <th>2010-01-12</th>\n",
       "      <td>0.032927</td>\n",
       "    </tr>\n",
       "    <tr>\n",
       "      <th>2010-01-13</th>\n",
       "      <td>0.032927</td>\n",
       "    </tr>\n",
       "    <tr>\n",
       "      <th>2010-01-14</th>\n",
       "      <td>0.032927</td>\n",
       "    </tr>\n",
       "  </tbody>\n",
       "</table>\n",
       "</div>"
      ],
      "text/plain": [
       "               valor\n",
       "data                \n",
       "2009-12-31  0.032927\n",
       "2010-01-04  0.032927\n",
       "2010-01-05  0.032927\n",
       "2010-01-06  0.032927\n",
       "2010-01-07  0.032927\n",
       "2010-01-08  0.032927\n",
       "2010-01-11  0.032927\n",
       "2010-01-12  0.032927\n",
       "2010-01-13  0.032927\n",
       "2010-01-14  0.032927"
      ]
     },
     "execution_count": 7,
     "metadata": {},
     "output_type": "execute_result"
    }
   ],
   "source": [
    "selic.head(10)"
   ]
  },
  {
   "cell_type": "markdown",
   "id": "ee19d1ec",
   "metadata": {},
   "source": [
    "veremos que a Selic (assim como diversos outros itens no mercado) não considera fins de semana (dias 9 e 10/jan) e feriados públicos."
   ]
  },
  {
   "cell_type": "code",
   "execution_count": 8,
   "id": "047877f2",
   "metadata": {},
   "outputs": [],
   "source": [
    "selic['equals'] = (selic['valor'] == selic['valor'].shift(1))\n",
    "selic = selic.iloc[1:]\n",
    "dates = selic[~selic['equals']].index.to_series().reset_index(drop=True)\n",
    "difs = (dates - dates.shift(1)).dt.days"
   ]
  },
  {
   "cell_type": "code",
   "execution_count": 9,
   "id": "562b33ec",
   "metadata": {},
   "outputs": [
    {
     "data": {
      "text/html": [
       "<div>\n",
       "<style scoped>\n",
       "    .dataframe tbody tr th:only-of-type {\n",
       "        vertical-align: middle;\n",
       "    }\n",
       "\n",
       "    .dataframe tbody tr th {\n",
       "        vertical-align: top;\n",
       "    }\n",
       "\n",
       "    .dataframe thead th {\n",
       "        text-align: right;\n",
       "    }\n",
       "</style>\n",
       "<table border=\"1\" class=\"dataframe\">\n",
       "  <thead>\n",
       "    <tr style=\"text-align: right;\">\n",
       "      <th></th>\n",
       "      <th>Dias entre variações da Selic</th>\n",
       "      <th>Frequência observada</th>\n",
       "    </tr>\n",
       "  </thead>\n",
       "  <tbody>\n",
       "    <tr>\n",
       "      <th>0</th>\n",
       "      <td>42.0</td>\n",
       "      <td>19</td>\n",
       "    </tr>\n",
       "    <tr>\n",
       "      <th>1</th>\n",
       "      <td>1.0</td>\n",
       "      <td>18</td>\n",
       "    </tr>\n",
       "    <tr>\n",
       "      <th>2</th>\n",
       "      <td>49.0</td>\n",
       "      <td>14</td>\n",
       "    </tr>\n",
       "    <tr>\n",
       "      <th>3</th>\n",
       "      <td>3.0</td>\n",
       "      <td>9</td>\n",
       "    </tr>\n",
       "    <tr>\n",
       "      <th>4</th>\n",
       "      <td>2.0</td>\n",
       "      <td>7</td>\n",
       "    </tr>\n",
       "  </tbody>\n",
       "</table>\n",
       "</div>"
      ],
      "text/plain": [
       "   Dias entre variações da Selic  Frequência observada\n",
       "0                           42.0                    19\n",
       "1                            1.0                    18\n",
       "2                           49.0                    14\n",
       "3                            3.0                     9\n",
       "4                            2.0                     7"
      ]
     },
     "execution_count": 9,
     "metadata": {},
     "output_type": "execute_result"
    }
   ],
   "source": [
    "pd.DataFrame(difs.value_counts()).reset_index().rename({'index': 'Dias entre variações da Selic',\n",
    "                                                        'data': 'Frequência observada'}, axis=1).head()"
   ]
  },
  {
   "cell_type": "markdown",
   "id": "8a73b378",
   "metadata": {},
   "source": [
    "Note que, apesar de na maior parte das vezes as variações observadas serem na ordem de 45 dias, valores baixos aparecem também. Isso se dá pelo fato de estarmos observando a Selic Over, que é uma média de valores realizados de taxas de juros, e apesar de próximo da Selic Meta, não são sempre iguais e podem ter um delay entre si."
   ]
  },
  {
   "cell_type": "markdown",
   "id": "9ac22021",
   "metadata": {},
   "source": [
    "### O que os valores da Selic em cada dia da tabela querem dizer?"
   ]
  },
  {
   "cell_type": "markdown",
   "id": "ed396fdd",
   "metadata": {},
   "source": [
    "Suponha que no primeiro dia útil de 2010 nós emprestamos 1000 reais ao Governo (como veremos mais para frente, isso se faz via títulos públicos). Ele nos paga de volta no dia seguinte, com uma taxa de juros de"
   ]
  },
  {
   "cell_type": "code",
   "execution_count": 10,
   "id": "8533101b",
   "metadata": {},
   "outputs": [
    {
     "name": "stdout",
     "output_type": "stream",
     "text": [
      "0.032927% ao dia\n"
     ]
    }
   ],
   "source": [
    "print(f\"{selic.loc['2010-01-04'].iloc[0]}% ao dia\")"
   ]
  },
  {
   "cell_type": "markdown",
   "id": "a3b45937",
   "metadata": {},
   "source": [
    "Ou seja, ele nos devolverá, arredondando, $1000 (1 +  3.2927 \\times 10^{-4}) \\approx 1000.33$ reais. Se pegarmos esse dinheiro e o emprestarmos de novo ao governo, imediatamente, no dia seguinte ele nos devolverá com um juro de"
   ]
  },
  {
   "cell_type": "code",
   "execution_count": 11,
   "id": "f66013e2",
   "metadata": {},
   "outputs": [
    {
     "name": "stdout",
     "output_type": "stream",
     "text": [
      "0.032927% ao dia,\n"
     ]
    }
   ],
   "source": [
    "print(f\"{selic.loc['2010-01-05'].iloc[0]}% ao dia,\")"
   ]
  },
  {
   "cell_type": "markdown",
   "id": "1651c7e7",
   "metadata": {},
   "source": [
    "ou seja, nosso novo montante será de $1000.33 (1 +   3.2927 \\times 10^{-4}) \\approx 1000.66$."
   ]
  },
  {
   "cell_type": "markdown",
   "id": "811c9a24",
   "metadata": {},
   "source": [
    "### Se repetirmos esse procedimento todos os dias, qual será o juros efetivo acumulado ao longo do ano de 2010?"
   ]
  },
  {
   "cell_type": "markdown",
   "id": "5bdf6106",
   "metadata": {},
   "source": [
    "**Resposta errada**: basta somar os valores da Selic de todos os dias de 2010. Isso dará:"
   ]
  },
  {
   "cell_type": "code",
   "execution_count": 12,
   "id": "5641cf8d",
   "metadata": {},
   "outputs": [],
   "source": [
    "selic = selic.assign(year=selic.index.to_series().dt.year)"
   ]
  },
  {
   "cell_type": "code",
   "execution_count": 13,
   "id": "e5114fed",
   "metadata": {},
   "outputs": [
    {
     "name": "stdout",
     "output_type": "stream",
     "text": [
      "Juros acumulados 2010 (forma ingenua) = 9.33% ao ano\n"
     ]
    }
   ],
   "source": [
    "naive_agg_selic = selic.\\\n",
    "    groupby('year').\\\n",
    "    sum().\\\n",
    "    loc[2010].\\\n",
    "    iloc[0]/100    ## cuidado com a divisao por 100 aqui!\n",
    "\n",
    "print(f'Juros acumulados 2010 (forma ingenua) = {round(100*naive_agg_selic, 2)}% ao ano')"
   ]
  },
  {
   "cell_type": "markdown",
   "id": "d3dc64a8",
   "metadata": {},
   "source": [
    "**Resposta correta**:\n",
    "\n",
    "Se $r_i$ é a taxa de juros diária aplicada a uma série de $N$ empréstimos iniciado em $M_0$, então o montante final será\n",
    "\n",
    "$$M_f = M_0 (1+r_1 \\Delta t)(1+r_2 \\Delta t) \\cdots (1+r_N \\Delta t) \\equiv \\prod_{i=1}^N (1+r_i \\Delta t),$$\n",
    "\n",
    "em que $\\Delta t = \\mbox{1 dia}$.\n",
    "\n",
    "Definindo a taxa equivalente via\n",
    "\n",
    "$$M_f = M_0 (1 + r_\\mathrm{year} \\Delta t_\\mathrm{year}),$$"
   ]
  },
  {
   "cell_type": "markdown",
   "id": "a3a9eed4",
   "metadata": {},
   "source": [
    "obtemos\n",
    "\n",
    "$$M_0 (1 + r_\\mathrm{year} \\Delta t_\\mathrm{year}) = M_0 \\prod_{i=1}^N (1+r_i \\Delta t)$$\n",
    "\n",
    "$$\\Rightarrow \\boxed{1 + r_\\mathrm{year}\\Delta t_\\mathrm{year} = \\prod_{i=1}^N (1+r_i \\Delta t).}$$"
   ]
  },
  {
   "cell_type": "markdown",
   "id": "2219ccad",
   "metadata": {},
   "source": [
    "Essa expressão é exata, e podemos calculá-la com os dados que temos:"
   ]
  },
  {
   "cell_type": "code",
   "execution_count": 14,
   "id": "101648ca",
   "metadata": {},
   "outputs": [
    {
     "name": "stdout",
     "output_type": "stream",
     "text": [
      "Juros acumulados 2010 (forma correta) = 9.78% ao ano\n"
     ]
    }
   ],
   "source": [
    "# precisamos converter as porcentagens em floats\n",
    "# de novo, veja a divisao por 100 aqui\n",
    "correct_agg_selic = (selic.assign(plus_one=selic.valor/100+1).\\\n",
    "    groupby('year').\\\n",
    "    prod()-1)['plus_one'].\\\n",
    "    loc[2010]\n",
    "\n",
    "print(f\"Juros acumulados 2010 (forma correta) = {round(100*correct_agg_selic,2)}% ao ano\")"
   ]
  },
  {
   "cell_type": "markdown",
   "id": "07cafff8",
   "metadata": {},
   "source": [
    "Note que esse valor é maior que o obtido de forma ingênua. Ele está [de acordo com o registrado pelo Bacen](https://www.bcb.gov.br/pec/boletim/banual2010/rel2010cap3p.pdf)."
   ]
  },
  {
   "cell_type": "markdown",
   "id": "859f9ffc",
   "metadata": {},
   "source": [
    "#### Usando séries de Taylor"
   ]
  },
  {
   "cell_type": "markdown",
   "id": "1e9bcb85",
   "metadata": {},
   "source": [
    "Assumindo que todos os termos no produtório são positivos (o que é uma hipótese razoável), podemos tomar o logaritmo. Obtemos\n",
    "\n",
    "$$\\log( 1 + r_\\mathrm{year}\\Delta t_\\mathrm{year}) = \\sum_{i=1}^N \\log(1+r_i \\Delta t)$$"
   ]
  },
  {
   "cell_type": "markdown",
   "id": "bdacc3e3",
   "metadata": {},
   "source": [
    "Aqui começam as aproximações. *Assumindo* que $r_i \\Delta t$ é pequeno (o que é verdade: esses produtos eram da ordem de $10^{-4}$ para o ano de 2010), podemos expandir o lado direito via Taylor:\n",
    "\n",
    "$$\\log(1+x) = x - \\frac{x^2}{2} + O(x^3)$$\n",
    "\n",
    "obtendo\n",
    "\n",
    "$$\\log( 1 + r_\\mathrm{year}\\Delta t_\\mathrm{year}) \\approx \\sum_{i=1}^N r_i \\Delta t$$"
   ]
  },
  {
   "cell_type": "markdown",
   "id": "d44096a2",
   "metadata": {},
   "source": [
    "ou, isolando a taxa de juros final,\n",
    "\n",
    "$$r_\\mathrm{year}\\Delta t_\\mathrm{year} \\approx \\exp \\left[\\sum_{i=1}^N r_i \\Delta t \\right] - 1.$$"
   ]
  },
  {
   "cell_type": "code",
   "execution_count": 15,
   "id": "403f0872",
   "metadata": {},
   "outputs": [
    {
     "name": "stdout",
     "output_type": "stream",
     "text": [
      "Juros acumulados 2010 (aproximadamente) 9.78% ao ano\n"
     ]
    }
   ],
   "source": [
    "approximate_agg_selic = np.exp(naive_agg_selic)-1\n",
    "print(f\"Juros acumulados 2010 (aproximadamente) {round(100*approximate_agg_selic,2)}% ao ano\")"
   ]
  },
  {
   "cell_type": "markdown",
   "id": "f7930673",
   "metadata": {},
   "source": [
    "Note que a aproximação foi excelente: conseguimos usá-la para converter a estimativa ingênua ($\\sum_i r_i \\Delta t$) na correta!"
   ]
  },
  {
   "cell_type": "markdown",
   "id": "2921e188",
   "metadata": {},
   "source": [
    "> Note que, formalmente, podemos e iremos considerar taxas de juros contíntuas: $r = r(t)$. Nesse caso, a expressão acima se torna exata:\n",
    "\n",
    "\n",
    "$$r_\\mathrm{year}\\Delta t_\\mathrm{year} = \\exp \\left[\\int_{t_0}^t r(t') dt' \\right] - 1$$"
   ]
  },
  {
   "cell_type": "code",
   "execution_count": 14,
   "id": "475d5751",
   "metadata": {},
   "outputs": [],
   "source": [
    "# salvando para uso futuro\n",
    "selic.to_parquet('../_data/selic.pqt')"
   ]
  }
 ],
 "metadata": {
  "kernelspec": {
   "display_name": "Python 3",
   "language": "python",
   "name": "python3"
  },
  "language_info": {
   "codemirror_mode": {
    "name": "ipython",
    "version": 3
   },
   "file_extension": ".py",
   "mimetype": "text/x-python",
   "name": "python",
   "nbconvert_exporter": "python",
   "pygments_lexer": "ipython3",
   "version": "3.8.8"
  }
 },
 "nbformat": 4,
 "nbformat_minor": 5
}
