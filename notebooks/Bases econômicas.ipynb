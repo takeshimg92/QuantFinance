{
 "cells": [
  {
   "cell_type": "code",
   "execution_count": null,
   "id": "94ee70a6",
   "metadata": {},
   "outputs": [],
   "source": [
    "#1. Taxa(s) de juros (Selic, DI)\n",
    "#2. O valor do dinheiro no tempo\n",
    "#3. Inflação\n",
    "#4. Como o relógio gira no mundo financeiro\n",
    "\n",
    "#5. Bonds\n",
    "#6. Juros no curto vs. longo prazo: a curva de juros"
   ]
  },
  {
   "cell_type": "markdown",
   "id": "b75fb2fe",
   "metadata": {},
   "source": [
    "---"
   ]
  },
  {
   "cell_type": "markdown",
   "id": "c7fb0aaf",
   "metadata": {},
   "source": [
    "# Antes de começarmos"
   ]
  },
  {
   "cell_type": "markdown",
   "id": "5340354a",
   "metadata": {},
   "source": [
    "Assista o vídeo \"How the Economic Machine Works\" \n",
    "\n",
    "* [Versão em inglês](https://www.youtube.com/watch?v=PHe0bXAIuk0)\n",
    "* [Legendado em português](https://www.youtube.com/watch?v=W8TFqyWUud0)"
   ]
  },
  {
   "cell_type": "markdown",
   "id": "5c1f1a75",
   "metadata": {},
   "source": [
    "Irei assumir nas próximas seções que você está familiarizado com os conteúdos deste vídeo."
   ]
  },
  {
   "cell_type": "markdown",
   "id": "53b2a38e",
   "metadata": {},
   "source": [
    "# Preâmbulo: sobre unidades"
   ]
  },
  {
   "cell_type": "markdown",
   "id": "474aca6a",
   "metadata": {},
   "source": [
    "Seremos bastante chatos quanto ao uso correto de unidades para evitar qualquer tipo de confusão.\n",
    "\n",
    "**Porcentagens**\n",
    "\n",
    "Uma prática (infelizmente) comum no mercado financeiro é de reportar valores em *porcentagem*. Isto é, ao puxar um dado de um banco de dados com o valor 2.37, o que ele quer dizer de fato é 2.37\\%, ou 0.0237."
   ]
  },
  {
   "cell_type": "markdown",
   "id": "359236d2",
   "metadata": {},
   "source": [
    "Assim, para deixar as coisas claras, iremos muitas vezes reportar \"%\" em si como uma unidade. Por exemplo, uma taxa de juros (como apresentaremos abaixo) é equivalentemente\n",
    "\n",
    "$$3 \\%\\, \\times\\mbox{tempo}^{-1} = 0.03 \\,\\mbox{tempo}^{-1}$$"
   ]
  },
  {
   "cell_type": "markdown",
   "id": "2047fe20",
   "metadata": {},
   "source": [
    "**Moeda**"
   ]
  },
  {
   "cell_type": "markdown",
   "id": "079d1906",
   "metadata": {},
   "source": [
    "Nossa unidade básica para dinheiro será o real (R\\\\$), ou simplesmente \"dinheiros\" numa moeda genérica.\n",
    "Naturalmente, quando considerarmos questões de taxas de câmbio entre duas moedas diferentes, iremos deixar bem clara a distinção.\n"
   ]
  },
  {
   "cell_type": "markdown",
   "id": "7284aca1",
   "metadata": {},
   "source": [
    "---"
   ]
  },
  {
   "cell_type": "markdown",
   "id": "0afd34a0",
   "metadata": {},
   "source": [
    "# 1. Taxas de juros - curto-prazo\n",
    "(EN: **interest rates**)"
   ]
  },
  {
   "cell_type": "markdown",
   "id": "ecd58e54",
   "metadata": {},
   "source": [
    "Se eu te empresto R\\\\$ 100, a serem devolvidos daqui a 1 mês, eu espero que você me pague mais que R\\\\$ 100 de volta. Isso faz sentido porque te emprestar um dinheiro tem um *custo de oportunidade*: em vez de deixar esse dinheiro com você, eu poderia usá-lo em outro investimento; para juntar numa caixinha para comprar um computador novo; etc.\n",
    "\n",
    "Se eu te peço, por exemplo, R\\\\$ 110 em troca, então a taxa de juros é de \n",
    "\n",
    "$$\\frac{\\mathrm{R\\$\\,} 110 -\\mathrm{R\\$\\,} 100}{\\mathrm{R\\$\\,}100 \\times 1 \\mbox{ mês}} = 0.10 \\mbox{/mês} =  10\\% \\mbox {/ mês}$$"
   ]
  },
  {
   "cell_type": "markdown",
   "id": "8bd49ef2",
   "metadata": {},
   "source": [
    "> **Unidades**: é importante notar que a unidade básica da taxa de juros é $\\mathrm{tempo}^{-1}$. Isso é importante porque raramente ela aparecerá sozinha, mas em geral multiplicando (ou sendo integrada contra) algum intervalo de tempo. "
   ]
  },
  {
   "cell_type": "markdown",
   "id": "dd60ef98",
   "metadata": {},
   "source": [
    "A equação básica é: se $M_0$ (unidade: dinheiros) é um empréstimo feito em $t=t_0$ a ser pago em $t=t$ por um valor $M_t$ (unidade: dinheiros) então a taxa de juros $r(t_0, t)$ (unidade: 1/tempo)\n",
    "é tal que\n",
    "\n",
    "$$\\boxed{M_t = M_0 (1 + r(t_0, t) \\Delta t)}$$"
   ]
  },
  {
   "cell_type": "markdown",
   "id": "e17cbc72",
   "metadata": {},
   "source": [
    "> Na escola, às vezes vemos a taxa de juros como um número puro (ex: no exemplo acima diríamos apenas que ela é 10\\%). Porém, essa visão não é benéfica: toda taxa de juros é atrelada à duração de algum empréstimo. Por isso, acima, colocamos explicitamente a dependência de $r$ nas variáveis $t_0, t$. Quando não for necessário, ou os tempos envolvidos estiverem implícitos, removeremos essa dependência para simplificar a notação."
   ]
  },
  {
   "cell_type": "markdown",
   "id": "13b8c338",
   "metadata": {},
   "source": [
    "**Todo empréstimo terá juros**; como veremos abaixo, empréstimos são a base de todos os produtos de renda fixa, logo, entender bem o conceito de juros é fundamental."
   ]
  },
  {
   "cell_type": "markdown",
   "id": "728790ab",
   "metadata": {},
   "source": [
    "## A Selic"
   ]
  },
  {
   "cell_type": "markdown",
   "id": "6e5830d2",
   "metadata": {},
   "source": [
    "No Brasil, muitas vezes falamos \"a taxa de juros subiu\". Qual taxa? A convenção subentendida aqui é que nos referimos à [**Selic**](https://www.bcb.gov.br/controleinflacao/taxaselic), que é definida a cada 45 dias via uma reunião do Comitê de Política Monetária (Copom) do Bacen."
   ]
  },
  {
   "cell_type": "markdown",
   "id": "c9b09a0a",
   "metadata": {},
   "source": [
    "**A Selic é a taxa de juros que o Governo brasileiro paga por empréstimos.** Como veremos mais para frente, essa taxa vai se propagando para todas as outras atreladas a diferentes empréstimos (por exemplo, entre bancos, ou entre um banco e uma pessoa física, e por ai vai)."
   ]
  },
  {
   "cell_type": "markdown",
   "id": "db3df4fe",
   "metadata": {},
   "source": [
    "> Gráfico da Selic vs. eventos históricos: https://clubedospoupadores.com/selic/meta "
   ]
  },
  {
   "cell_type": "markdown",
   "id": "bd82d088",
   "metadata": {},
   "source": [
    "### A taxa livre de risco e as \"Selic\"s por aí\n",
    "(EN: **risk-free rate**)"
   ]
  },
  {
   "cell_type": "markdown",
   "id": "81caeddf",
   "metadata": {},
   "source": [
    "Em finanças teóricas, a taxa livre de risco é uma taxa de juros mínima que não tem implica risco nenhum à parte que empresta o dinheiro. Ou seja: se eu empresto 100 reais para alguém com um juro total de 5% sobre algum período, então eu receberei 105 reais de volta ao final com 100% de certeza - não há risco de calote, de a outra parte desaparecer, etc.\n"
   ]
  },
  {
   "cell_type": "markdown",
   "id": "1d1048ae",
   "metadata": {},
   "source": [
    "No mundo real tudo tem riscos, mas é comum assumir que **empréstimos ao governo são livres de risco**. Assim, quando em artigos ou discussões aparecer a expressão de taxa livre de risco, instintivamente podem assumir que estamos falando da Selic."
   ]
  },
  {
   "cell_type": "markdown",
   "id": "149bd3af",
   "metadata": {},
   "source": [
    "Nos EUA, o equivalente do Copom é o Federal Open Market Committee (FOMC), também se encontrando um número fixo de vezes ao ano. O equivalende da Selic seria o Federal Funds Rate, que é definido num range."
   ]
  },
  {
   "cell_type": "markdown",
   "id": "156c913f",
   "metadata": {},
   "source": [
    "### Selic Meta vs. Over"
   ]
  },
  {
   "cell_type": "markdown",
   "id": "435ec8c0",
   "metadata": {},
   "source": [
    "A Selic definida pelo Copom é a chamada taxa **Selic Meta**, literalmente porque ela coloca uma meta no valor das taxa de juros.\n",
    "\n",
    "Na vida real, as taxas aplicadas entre instituições pode ter desvios em relação à Selic Meta.\n",
    "\n",
    "Todos os dias, instituições financeiras precisam fechar seu caixa, visando cumprir obrigações de capital e liquidez. Assim, haverá operações de empréstimos com horizonte diário que levam em consideração a Selic Meta.\n",
    "\n",
    "A média das taxas de juros dessas transações diárias é chamada de taxa **Selic Over.** (\"Over\" vindo de \"overnight\", dado que são transações voltadas a balanceamento de caixa no fim do dia). Historicamente, é comum observar \n",
    "\n",
    "Historicamente, no Brasil, a taxa Meta e a Over se diferem na ordem de 1 ponto percentual:\n",
    "\n",
    "$$r_\\mathrm{over} \\approx r_\\mathrm{meta} - \\mbox{0.1 %};$$\n",
    "\n",
    "por exemplo, se a meta estiver em 6.3%, a over deve estar próxima de 6.2%.\n",
    "\n",
    "> Em suma: a Selic Meta é o valor teórico estipulado pelo Copom. A Selic Over é o valor observado das taxas realizadas, naturalmente direcionado mas não idêntico à Selic Meta."
   ]
  },
  {
   "cell_type": "markdown",
   "id": "50482d5f",
   "metadata": {},
   "source": [
    "> Comparação das duas Selics: https://www.bcb.gov.br/controleinflacao/historicotaxasjuros"
   ]
  },
  {
   "cell_type": "markdown",
   "id": "f667398d",
   "metadata": {},
   "source": [
    "### Selic vs. DI vs. CDI"
   ]
  },
  {
   "cell_type": "markdown",
   "id": "3af90cef",
   "metadata": {},
   "source": [
    "A Selic define uma taxa de juros para empréstimos ao governo.\n",
    "\n",
    "Por outro lado, a **taxa DI** (de \"Depósitos Interbancários\") é a taxa de juros que bancos aplicam entre si para empréstimos. O instrumento para fazer esse empréstimo é o Certificado de Depósito Interbancário, o **CDI**.\n",
    "\n",
    "> O DI é uma taxa, enquanto o CDI é um instrumento financeiro. Porém, os termos são muitas vezes usados de forma intercambiável."
   ]
  },
  {
   "cell_type": "markdown",
   "id": "de195950",
   "metadata": {},
   "source": [
    "**O DI é extremamente próximo da Selic (Over).** Para efeitos práticos, consideraremos a Selic em todas as contas."
   ]
  },
  {
   "cell_type": "markdown",
   "id": "e819f285",
   "metadata": {},
   "source": [
    "## Baixando a Selic via API do Bacen\n",
    "[Referência](https://dadosabertos.bcb.gov.br/dataset/11-taxa-de-juros---selic/resource/b73edc07-bbac-430c-a2cb-b1639e605fa8)"
   ]
  },
  {
   "cell_type": "markdown",
   "id": "2d42a68b",
   "metadata": {},
   "source": [
    "Informações importantes:\n",
    "\n",
    "* O dado do Bacen vem em unidade $\\%/\\mbox{dia}$, e não $1/\\mbox{dia}$. Ou seja, para usá-lo, precisaremos dividi-lo por 100 para trazê-lo à escala absoluta.\n",
    "\n",
    "* A Selic obtida via está API é a Selic Over."
   ]
  },
  {
   "cell_type": "code",
   "execution_count": 1,
   "id": "2a61baf4",
   "metadata": {},
   "outputs": [],
   "source": [
    "import numpy as np\n",
    "import matplotlib.pyplot as plt\n",
    "import requests\n",
    "import pandas as pd\n",
    "from datetime import datetime\n",
    "\n",
    "pd.options.mode.chained_assignment = None "
   ]
  },
  {
   "cell_type": "markdown",
   "id": "d8c0d773",
   "metadata": {},
   "source": [
    "Usaremos uma classe abstrata para servir de blueprint para baixarmos dados de diversos indicadores:"
   ]
  },
  {
   "cell_type": "code",
   "execution_count": 2,
   "id": "b0cb382e",
   "metadata": {},
   "outputs": [],
   "source": [
    "from abc import ABC, abstractmethod\n",
    "\n",
    "\n",
    "class DataLoader(ABC):\n",
    "    \n",
    "    def __init__(self):\n",
    "        self.json = None\n",
    "        self.df = None\n",
    "        \n",
    "    @abstractmethod\n",
    "    def load_data_from_range(self, t0=None, tf=None):\n",
    "        \"\"\"Main pipeline. Must return self\"\"\"\n",
    "        ...\n",
    "        return self\n",
    "        \n",
    "    @abstractmethod\n",
    "    def _download_series(self, t0: datetime, tf: datetime):\n",
    "        \"\"\"Must set self.json. Returns None\"\"\"\n",
    "        ...\n",
    "        return\n",
    "    \n",
    "    @abstractmethod\n",
    "    def _json_to_dataframe(self):\n",
    "        ...\n",
    "        \"\"\"Must set self.df to actual value as pd.DataFrame. Returns None\"\"\"\n",
    "        return\n",
    "    \n",
    "    def get_pandas(self):\n",
    "        if self.df is None:\n",
    "            raise Exception(\"Data not downloaded yet; run load_data_from_range before\")\n",
    "            \n",
    "        return self.df\n",
    "\n",
    "    @staticmethod\n",
    "    def _two_digits(n: int):\n",
    "        return str(n).zfill(2)"
   ]
  },
  {
   "cell_type": "code",
   "execution_count": 3,
   "id": "ab9f1dcb",
   "metadata": {},
   "outputs": [],
   "source": [
    "class SelicLoader(DataLoader):\n",
    "        \n",
    "    def load_data_from_range(self, t0=None, tf=None):\n",
    "        \"\"\"Loads Selic data from Bacen API. \n",
    "        \n",
    "        Baixa dados da taxa de juros que representa a taxa média ajustada\n",
    "        das operações compromissadas com prazo de um dia útil lastreadas com \n",
    "        títulos públicos federais custodiados no  Sistema Especial de Liquidação\n",
    "        e de Custódia (Selic).\n",
    "        \n",
    "        Dados são reportados em % ao dia. Ex: a value of 0.032927 for 2010-01-04\n",
    "        means that overnight operations had interest of 0.032927% on this day.\n",
    "\n",
    "        t0: initial time. A datetime.datetime object (default=None);\n",
    "            if let None, will download a 12-month interval prior to tf\n",
    "        tf: final time. A datetime.datetime object (default=None);\n",
    "            if let None, will be set to the current day         \n",
    "        \n",
    "        ----\n",
    "        Examples:\n",
    "\n",
    "        from datetime import datetime\n",
    "        SelicLoader().load_data_from_range(t0=datetime(2010,12,1))\n",
    "        \n",
    "        SelicLoader().load_data_from_range(t0=pd.to_datetime('2010-12-01'))\n",
    "        \"\"\"\n",
    "\n",
    "        if tf is None:\n",
    "            tf = pd.to_datetime('today')\n",
    "        \n",
    "        if t0 is None:\n",
    "            t0 = tf - pd.DateOffset(years=1)\n",
    "        \n",
    "        self.t0 = t0\n",
    "        self.tf = tf\n",
    "        \n",
    "        self._download_series(t0, tf)\n",
    "        self._json_to_dataframe()\n",
    "        \n",
    "        return self\n",
    "    \n",
    "    def _download_series(self, t0: datetime, tf: datetime):\n",
    "\n",
    "        url = 'https://api.bcb.gov.br/dados/serie/bcdata.sgs.11/dados?formato=json' + \\\n",
    "          f'&dataInicial={self._two_digits(t0.day)}/{self._two_digits(t0.month)}/{t0.year}' + \\\n",
    "          f'&dataFinal={self._two_digits(tf.day)}/{self._two_digits(tf.month)}/{tf.year}'\n",
    "\n",
    "        req = requests.get(url)\n",
    "        req.raise_for_status()\n",
    "        \n",
    "        self.json = req.json()\n",
    "        return\n",
    "    \n",
    "    def _json_to_dataframe(self):\n",
    "        \"\"\"\n",
    "        Metadata: https://www3.bcb.gov.br/sgspub/consultarmetadados/consultarMetadadosSeries.do?\n",
    "        method=consultarMetadadosSeriesInternet&hdOidSerieSelecionada=11\"\"\"\n",
    "        \n",
    "        df = pd.DataFrame(self.json)\n",
    "        df['data'] = pd.to_datetime(df['data'], format='%d/%m/%Y')\n",
    "        df['valor'] = df['valor'].astype(float).round(6) # dados com 6 casas\n",
    "        df = df.set_index('data')\n",
    "        self.df = df\n",
    "        return"
   ]
  },
  {
   "cell_type": "code",
   "execution_count": 4,
   "id": "3687bd58",
   "metadata": {},
   "outputs": [
    {
     "name": "stdout",
     "output_type": "stream",
     "text": [
      "CPU times: user 37.9 ms, sys: 10.3 ms, total: 48.2 ms\n",
      "Wall time: 3.06 s\n"
     ]
    }
   ],
   "source": [
    "%%time\n",
    "data = SelicLoader().load_data_from_range(t0=datetime(2010, 1,1))"
   ]
  },
  {
   "cell_type": "code",
   "execution_count": 5,
   "id": "0def7ef8",
   "metadata": {},
   "outputs": [],
   "source": [
    "selic = data.get_pandas()"
   ]
  },
  {
   "cell_type": "code",
   "execution_count": 6,
   "id": "540c813a",
   "metadata": {},
   "outputs": [
    {
     "data": {
      "image/png": "[encoded data removed]",
      "text/plain": [
       "<Figure size 432x288 with 1 Axes>"
      ]
     },
     "metadata": {
      "needs_background": "light"
     },
     "output_type": "display_data"
    }
   ],
   "source": [
    "selic.plot()\n",
    "plt.ylabel(\"Selic em %/dia\")\n",
    "plt.show()"
   ]
  },
  {
   "cell_type": "markdown",
   "id": "c06029bd",
   "metadata": {},
   "source": [
    "Note como a série da Selic é essencialmente uma função escada. Isso é esperado, pois ela é ajustada a cada 45 dias.\n",
    "\n",
    "Se olharmos as primeiras 10 entradas:"
   ]
  },
  {
   "cell_type": "code",
   "execution_count": 7,
   "id": "ca779815",
   "metadata": {},
   "outputs": [
    {
     "data": {
      "text/html": [
       "<div>\n",
       "<style scoped>\n",
       "    .dataframe tbody tr th:only-of-type {\n",
       "        vertical-align: middle;\n",
       "    }\n",
       "\n",
       "    .dataframe tbody tr th {\n",
       "        vertical-align: top;\n",
       "    }\n",
       "\n",
       "    .dataframe thead th {\n",
       "        text-align: right;\n",
       "    }\n",
       "</style>\n",
       "<table border=\"1\" class=\"dataframe\">\n",
       "  <thead>\n",
       "    <tr style=\"text-align: right;\">\n",
       "      <th></th>\n",
       "      <th>valor</th>\n",
       "    </tr>\n",
       "    <tr>\n",
       "      <th>data</th>\n",
       "      <th></th>\n",
       "    </tr>\n",
       "  </thead>\n",
       "  <tbody>\n",
       "    <tr>\n",
       "      <th>2009-12-31</th>\n",
       "      <td>0.032927</td>\n",
       "    </tr>\n",
       "    <tr>\n",
       "      <th>2010-01-04</th>\n",
       "      <td>0.032927</td>\n",
       "    </tr>\n",
       "    <tr>\n",
       "      <th>2010-01-05</th>\n",
       "      <td>0.032927</td>\n",
       "    </tr>\n",
       "    <tr>\n",
       "      <th>2010-01-06</th>\n",
       "      <td>0.032927</td>\n",
       "    </tr>\n",
       "    <tr>\n",
       "      <th>2010-01-07</th>\n",
       "      <td>0.032927</td>\n",
       "    </tr>\n",
       "    <tr>\n",
       "      <th>2010-01-08</th>\n",
       "      <td>0.032927</td>\n",
       "    </tr>\n",
       "    <tr>\n",
       "      <th>2010-01-11</th>\n",
       "      <td>0.032927</td>\n",
       "    </tr>\n",
       "    <tr>\n",
       "      <th>2010-01-12</th>\n",
       "      <td>0.032927</td>\n",
       "    </tr>\n",
       "    <tr>\n",
       "      <th>2010-01-13</th>\n",
       "      <td>0.032927</td>\n",
       "    </tr>\n",
       "    <tr>\n",
       "      <th>2010-01-14</th>\n",
       "      <td>0.032927</td>\n",
       "    </tr>\n",
       "  </tbody>\n",
       "</table>\n",
       "</div>"
      ],
      "text/plain": [
       "               valor\n",
       "data                \n",
       "2009-12-31  0.032927\n",
       "2010-01-04  0.032927\n",
       "2010-01-05  0.032927\n",
       "2010-01-06  0.032927\n",
       "2010-01-07  0.032927\n",
       "2010-01-08  0.032927\n",
       "2010-01-11  0.032927\n",
       "2010-01-12  0.032927\n",
       "2010-01-13  0.032927\n",
       "2010-01-14  0.032927"
      ]
     },
     "execution_count": 7,
     "metadata": {},
     "output_type": "execute_result"
    }
   ],
   "source": [
    "selic.head(10)"
   ]
  },
  {
   "cell_type": "markdown",
   "id": "ee19d1ec",
   "metadata": {},
   "source": [
    "veremos que a Selic (assim como diversos outros itens no mercado) não considera fins de semana (dias 9 e 10/jan) e feriados públicos."
   ]
  },
  {
   "cell_type": "code",
   "execution_count": 8,
   "id": "047877f2",
   "metadata": {},
   "outputs": [],
   "source": [
    "selic['equals'] = (selic['valor'] == selic['valor'].shift(1))\n",
    "selic = selic.iloc[1:]\n",
    "dates = selic[~selic['equals']].index.to_series().reset_index(drop=True)\n",
    "difs = (dates - dates.shift(1)).dt.days"
   ]
  },
  {
   "cell_type": "code",
   "execution_count": 9,
   "id": "562b33ec",
   "metadata": {},
   "outputs": [
    {
     "data": {
      "text/html": [
       "<div>\n",
       "<style scoped>\n",
       "    .dataframe tbody tr th:only-of-type {\n",
       "        vertical-align: middle;\n",
       "    }\n",
       "\n",
       "    .dataframe tbody tr th {\n",
       "        vertical-align: top;\n",
       "    }\n",
       "\n",
       "    .dataframe thead th {\n",
       "        text-align: right;\n",
       "    }\n",
       "</style>\n",
       "<table border=\"1\" class=\"dataframe\">\n",
       "  <thead>\n",
       "    <tr style=\"text-align: right;\">\n",
       "      <th></th>\n",
       "      <th>Dias entre variações da Selic</th>\n",
       "      <th>Frequência observada</th>\n",
       "    </tr>\n",
       "  </thead>\n",
       "  <tbody>\n",
       "    <tr>\n",
       "      <th>0</th>\n",
       "      <td>42.0</td>\n",
       "      <td>19</td>\n",
       "    </tr>\n",
       "    <tr>\n",
       "      <th>1</th>\n",
       "      <td>1.0</td>\n",
       "      <td>18</td>\n",
       "    </tr>\n",
       "    <tr>\n",
       "      <th>2</th>\n",
       "      <td>49.0</td>\n",
       "      <td>14</td>\n",
       "    </tr>\n",
       "    <tr>\n",
       "      <th>3</th>\n",
       "      <td>3.0</td>\n",
       "      <td>9</td>\n",
       "    </tr>\n",
       "    <tr>\n",
       "      <th>4</th>\n",
       "      <td>2.0</td>\n",
       "      <td>7</td>\n",
       "    </tr>\n",
       "  </tbody>\n",
       "</table>\n",
       "</div>"
      ],
      "text/plain": [
       "   Dias entre variações da Selic  Frequência observada\n",
       "0                           42.0                    19\n",
       "1                            1.0                    18\n",
       "2                           49.0                    14\n",
       "3                            3.0                     9\n",
       "4                            2.0                     7"
      ]
     },
     "execution_count": 9,
     "metadata": {},
     "output_type": "execute_result"
    }
   ],
   "source": [
    "pd.DataFrame(difs.value_counts()).reset_index().rename({'index': 'Dias entre variações da Selic',\n",
    "                                                        'data': 'Frequência observada'}, axis=1).head()"
   ]
  },
  {
   "cell_type": "markdown",
   "id": "8a73b378",
   "metadata": {},
   "source": [
    "Note que, apesar de na maior parte das vezes as variações observadas serem na ordem de 45 dias, valores baixos aparecem também. Isso se dá pelo fato de estarmos observando a Selic Over, que é uma média de valores realizados de taxas de juros, e apesar de próximo da Selic Meta, não são sempre iguais e podem ter um delay entre si."
   ]
  },
  {
   "cell_type": "markdown",
   "id": "9ac22021",
   "metadata": {},
   "source": [
    "### O que os valores da Selic em cada dia da tabela querem dizer?"
   ]
  },
  {
   "cell_type": "markdown",
   "id": "ed396fdd",
   "metadata": {},
   "source": [
    "Suponha que no primeiro dia útil de 2010 nós emprestamos 1000 reais ao Governo (como veremos mais para frente, isso se faz via títulos públicos). Ele nos paga de volta no dia seguinte, com uma taxa de juros de"
   ]
  },
  {
   "cell_type": "code",
   "execution_count": 10,
   "id": "8533101b",
   "metadata": {},
   "outputs": [
    {
     "name": "stdout",
     "output_type": "stream",
     "text": [
      "0.032927% ao dia\n"
     ]
    }
   ],
   "source": [
    "print(f\"{selic.loc['2010-01-04'].iloc[0]}% ao dia\")"
   ]
  },
  {
   "cell_type": "markdown",
   "id": "a3b45937",
   "metadata": {},
   "source": [
    "Ou seja, ele nos devolverá, arredondando, $1000 (1 +  3.2927 \\times 10^{-4}) \\approx 1000.33$ reais. Se pegarmos esse dinheiro e o emprestarmos de novo ao governo, imediatamente, no dia seguinte ele nos devolverá com um juro de"
   ]
  },
  {
   "cell_type": "code",
   "execution_count": 11,
   "id": "f66013e2",
   "metadata": {},
   "outputs": [
    {
     "name": "stdout",
     "output_type": "stream",
     "text": [
      "0.032927% ao dia,\n"
     ]
    }
   ],
   "source": [
    "print(f\"{selic.loc['2010-01-05'].iloc[0]}% ao dia,\")"
   ]
  },
  {
   "cell_type": "markdown",
   "id": "1651c7e7",
   "metadata": {},
   "source": [
    "ou seja, nosso novo montante será de $1000.33 (1 +   3.2927 \\times 10^{-4}) \\approx 1000.66$."
   ]
  },
  {
   "cell_type": "markdown",
   "id": "811c9a24",
   "metadata": {},
   "source": [
    "### Se repetirmos esse procedimento todos os dias, qual será o juros efetivo acumulado ao longo do ano de 2010?"
   ]
  },
  {
   "cell_type": "markdown",
   "id": "5bdf6106",
   "metadata": {},
   "source": [
    "**Resposta errada**: basta somar os valores da Selic de todos os dias de 2010. Isso dará:"
   ]
  },
  {
   "cell_type": "code",
   "execution_count": 12,
   "id": "5641cf8d",
   "metadata": {},
   "outputs": [],
   "source": [
    "selic = selic.assign(year=selic.index.to_series().dt.year)"
   ]
  },
  {
   "cell_type": "code",
   "execution_count": 13,
   "id": "e5114fed",
   "metadata": {},
   "outputs": [
    {
     "name": "stdout",
     "output_type": "stream",
     "text": [
      "Juros acumulados 2010 (forma ingenua) = 9.33% ao ano\n"
     ]
    }
   ],
   "source": [
    "naive_agg_selic = selic.\\\n",
    "    groupby('year').\\\n",
    "    sum().\\\n",
    "    loc[2010].\\\n",
    "    iloc[0]/100    ## cuidado com a divisao por 100 aqui!\n",
    "\n",
    "print(f'Juros acumulados 2010 (forma ingenua) = {round(100*naive_agg_selic, 2)}% ao ano')"
   ]
  },
  {
   "cell_type": "markdown",
   "id": "d3dc64a8",
   "metadata": {},
   "source": [
    "**Resposta correta**:\n",
    "\n",
    "Se $r_i$ é a taxa de juros diária aplicada a uma série de $N$ empréstimos iniciado em $M_0$, então o montante final será\n",
    "\n",
    "$$M_f = M_0 (1+r_1 \\Delta t)(1+r_2 \\Delta t) \\cdots (1+r_N \\Delta t) \\equiv \\prod_{i=1}^N (1+r_i \\Delta t),$$\n",
    "\n",
    "em que $\\Delta t = \\mbox{1 dia}$.\n",
    "\n",
    "Definindo a taxa equivalente via\n",
    "\n",
    "$$M_f = M_0 (1 + r_\\mathrm{year} \\Delta t_\\mathrm{year}),$$"
   ]
  },
  {
   "cell_type": "markdown",
   "id": "a3a9eed4",
   "metadata": {},
   "source": [
    "obtemos\n",
    "\n",
    "$$M_0 (1 + r_\\mathrm{year} \\Delta t_\\mathrm{year}) = M_0 \\prod_{i=1}^N (1+r_i \\Delta t)$$\n",
    "\n",
    "$$\\Rightarrow \\boxed{1 + r_\\mathrm{year}\\Delta t_\\mathrm{year} = \\prod_{i=1}^N (1+r_i \\Delta t).}$$"
   ]
  },
  {
   "cell_type": "markdown",
   "id": "2219ccad",
   "metadata": {},
   "source": [
    "Essa expressão é exata, e podemos calculá-la com os dados que temos:"
   ]
  },
  {
   "cell_type": "code",
   "execution_count": 14,
   "id": "101648ca",
   "metadata": {},
   "outputs": [
    {
     "name": "stdout",
     "output_type": "stream",
     "text": [
      "Juros acumulados 2010 (forma correta) = 9.78% ao ano\n"
     ]
    }
   ],
   "source": [
    "# precisamos converter as porcentagens em floats\n",
    "# de novo, veja a divisao por 100 aqui\n",
    "correct_agg_selic = (selic.assign(plus_one=selic.valor/100+1).\\\n",
    "    groupby('year').\\\n",
    "    prod()-1)['plus_one'].\\\n",
    "    loc[2010]\n",
    "\n",
    "print(f\"Juros acumulados 2010 (forma correta) = {round(100*correct_agg_selic,2)}% ao ano\")"
   ]
  },
  {
   "cell_type": "markdown",
   "id": "07cafff8",
   "metadata": {},
   "source": [
    "Note que esse valor é maior que o obtido de forma ingênua. Ele está [de acordo com o registrado pelo Bacen](https://www.bcb.gov.br/pec/boletim/banual2010/rel2010cap3p.pdf)."
   ]
  },
  {
   "cell_type": "markdown",
   "id": "859f9ffc",
   "metadata": {},
   "source": [
    "#### Usando séries de Taylor"
   ]
  },
  {
   "cell_type": "markdown",
   "id": "1e9bcb85",
   "metadata": {},
   "source": [
    "Assumindo que todos os termos no produtório são positivos (o que é uma hipótese razoável), podemos tomar o logaritmo. Obtemos\n",
    "\n",
    "$$\\log( 1 + r_\\mathrm{year}\\Delta t_\\mathrm{year}) = \\sum_{i=1}^N \\log(1+r_i \\Delta t)$$"
   ]
  },
  {
   "cell_type": "markdown",
   "id": "bdacc3e3",
   "metadata": {},
   "source": [
    "Aqui começam as aproximações. *Assumindo* que $r_i \\Delta t$ é pequeno (o que é verdade: esses produtos eram da ordem de $10^{-4}$ para o ano de 2010), podemos expandir o lado direito via Taylor:\n",
    "\n",
    "$$\\log(1+x) = x - \\frac{x^2}{2} + O(x^3)$$\n",
    "\n",
    "obtendo\n",
    "\n",
    "$$\\log( 1 + r_\\mathrm{year}\\Delta t_\\mathrm{year}) \\approx \\sum_{i=1}^N r_i \\Delta t$$"
   ]
  },
  {
   "cell_type": "markdown",
   "id": "d44096a2",
   "metadata": {},
   "source": [
    "ou, isolando a taxa de juros final,\n",
    "\n",
    "$$r_\\mathrm{year}\\Delta t_\\mathrm{year} \\approx \\exp \\left[\\sum_{i=1}^N r_i \\Delta t \\right] - 1.$$"
   ]
  },
  {
   "cell_type": "code",
   "execution_count": 15,
   "id": "403f0872",
   "metadata": {},
   "outputs": [
    {
     "name": "stdout",
     "output_type": "stream",
     "text": [
      "Juros acumulados 2010 (aproximadamente) 9.78% ao ano\n"
     ]
    }
   ],
   "source": [
    "approximate_agg_selic = np.exp(naive_agg_selic)-1\n",
    "print(f\"Juros acumulados 2010 (aproximadamente) {round(100*approximate_agg_selic,2)}% ao ano\")"
   ]
  },
  {
   "cell_type": "markdown",
   "id": "f7930673",
   "metadata": {},
   "source": [
    "Note que a aproximação foi excelente: conseguimos usá-la para converter a estimativa ingênua ($\\sum_i r_i \\Delta t$) na correta!"
   ]
  },
  {
   "cell_type": "markdown",
   "id": "2921e188",
   "metadata": {},
   "source": [
    "> Note que, formalmente, podemos e iremos considerar taxas de juros contíntuas: $r = r(t)$. Nesse caso, a expressão acima se torna exata:\n",
    "\n",
    "\n",
    "$$r_\\mathrm{year}\\Delta t_\\mathrm{year} = \\exp \\left[\\int_{t_0}^t r(t') dt' \\right] - 1$$"
   ]
  },
  {
   "cell_type": "markdown",
   "id": "8161d046",
   "metadata": {},
   "source": [
    "---"
   ]
  },
  {
   "cell_type": "markdown",
   "id": "f6b93a19",
   "metadata": {},
   "source": [
    "# O valor do dinheiro no tempo\n",
    "(EN: **time value of money** ou **TVM**)"
   ]
  },
  {
   "cell_type": "markdown",
   "id": "fe65fd44",
   "metadata": {},
   "source": [
    "Ganhar 100 reais hoje vale mais que ganhar estes mesmos 100 reais amanhã. \n",
    "\n",
    "Isso é intuitivo: se eu tiver um real hoje, posso usar ele em algo rentável. É o mesmo custo de oportunidade que mencionamos na seção interior, que justifica a existência de juros.\n",
    "\n",
    "A taxa livre de risco (Selic no nosso caso) nos dá uma receita para converter valores entre diferentes momentos do tempo. A ideia é: **dinheiro hoje vale mais que amanhã**, pois um dinheiro hoje pode ser investido num título público (ie. emprestado ao governo) e amanhã ele terá valorizado \n",
    "\n",
    "### Cálculo simples: juros constantes\n",
    "\n",
    "O cálculo comum (disponível em livros) supoõe $r$ constante. Nesse caso, \n",
    "\n"
   ]
  },
  {
   "cell_type": "markdown",
   "id": "5a6ca524",
   "metadata": {},
   "source": [
    "# 3. Inflação & deflação\n",
    "(EN: **inflation / deflation**)"
   ]
  },
  {
   "cell_type": "markdown",
   "id": "39791554",
   "metadata": {},
   "source": [
    "Um fato da vida é que preços de bens (comida, roupas, habitação etc) variam com o tempo. \n",
    "\n",
    "Quando essa variação é positiva (preços sobem), chamamos esse fenômeno de **inflação**; no caso de ela ser negativa (preços baixam), chamamos de **deflação**."
   ]
  },
  {
   "cell_type": "markdown",
   "id": "fa07207b",
   "metadata": {},
   "source": [
    "Quais preços? Onde? É necessário tomar algumas decisões: você mesmo pode ir ao seu mercado local, escolher meia dúzia de produtos e calcular uma média ponderada dos preços deles. Daqui a um mês, você repete o exercício e vê se esse preço ponderado sobe ou desce."
   ]
  },
  {
   "cell_type": "markdown",
   "id": "4529c217",
   "metadata": {},
   "source": [
    "> Aqui, não vamos ainda entrar no mérito de *por que* preços sobem ou descem - você deve ter um entendimento baseado no vídeo do Ray Dalio, cujo link repetimos [aqui](https://www.youtube.com/watch?v=PHe0bXAIuk0) por bondade. O ponto é que eles variam - e isso afeta o poder de compra do consumidor."
   ]
  },
  {
   "cell_type": "markdown",
   "id": "92ae0c4d",
   "metadata": {},
   "source": [
    "### O IPCA"
   ]
  },
  {
   "cell_type": "markdown",
   "id": "80115418",
   "metadata": {},
   "source": [
    "O **IPCA** (Índice de Preços ao Consumidor Amplo) é o exemplo brasileiro de um CPI (**Consumer Price Index**): um índice que agrega informações relativas a preços de bens para o consumidor.\n",
    "\n",
    "Ele é calculado mensalmente pelo IBGE, e é considerado como nosso termômetro oficial de inflação. O valor dele é normalizado em 100 em Dez/1993.\n",
    "\n",
    "> Veja [aqui](https://www.btgpactualdigital.com/como-investir/artigos/financas/ipca-o-que-e?cmpid=c04:m05:google:11177116067::110394111315&utm_medium=spl&utm_source=google&utm_campaign=11177116067&utm_content=110394111315&creative=603002635856&adposition=&keyword=&matchtype=&targetid=dsa-1592469244208&device=c&feeditemid=&loc_interest_ms=&loc_physical_ms=1001773&placement=&s_kwcid=AL!9288!3!603002635856!!!g!!&gclid=Cj0KCQjwy5maBhDdARIsAMxrkw0emDxCz87_aiuiq4rvK4THDOiB09EJYV0Nxq6SSAU7b7hNcbmTvs4aAuAVEALw_wcB) mais detalhes sobre o cálculo do IPCA."
   ]
  },
  {
   "cell_type": "markdown",
   "id": "6e52a5b8",
   "metadata": {},
   "source": [
    "> O IPCA se quebra em várias sub-categorias (por bens e região): ver [aqui](https://www.ibge.gov.br/estatisticas/economicas/precos-e-custos/9256-indice-nacional-de-precos-ao-consumidor-amplo.html?edicao=32709&t=destaques) uma interface interativa."
   ]
  },
  {
   "cell_type": "markdown",
   "id": "2642f251",
   "metadata": {},
   "source": [
    "Note que a inflação é medida pelas **variações do IPCA**: se ele cresce, é porque houve inflação; se ele diminui, houve deflação."
   ]
  },
  {
   "cell_type": "markdown",
   "id": "bfa74101",
   "metadata": {},
   "source": [
    "Por exemplo: no fim de janeiro/2017, o IPCA estava em 4793.85 pontos; no fim de fevereiro ele fechou em 4809.67. Isso significa que a inflação de fevereiro/2017, segundo o IPCA, é\n",
    "\n",
    "$$i_\\mathrm{2017/02} = \\frac{\\mathrm{IPCA_{2017/02} - IPCA_{2017/01}}}{\\mathrm{IPCA_{2017/01}}} = \\frac{4809.67 - 4793.85}{4794.85} = 0.33\\%$$"
   ]
  },
  {
   "cell_type": "markdown",
   "id": "1e97fa8d",
   "metadata": {},
   "source": [
    "> É **muito** comum ouvir frases como \"O IPCA de Fev/2017 foi de 0.33%\". Essa frase é um abuso de linguagem: o que ela quer dizer é que o IPCA viu uma variação percentual de 0.33% no mês de Fev/2017 em relação ao mês anterior."
   ]
  },
  {
   "cell_type": "markdown",
   "id": "72143838",
   "metadata": {},
   "source": [
    "E quando dizemos que o **IPCA acumulado** ao longo de um ano, por exemplo? Novamente este é um abuso de linguagem; o que ele quer dizer é a variação percentual do IPCA entre dezembro daquele ano e dezembro do ano anterior. Por exemplo, em 2016 observamos um acumulado de 6.28%. Esse valor provém do fato que\n",
    "\n",
    "$$\\mathrm{IPCA_{2016/12}} = 4775.70$$\n",
    "$$\\mathrm{IPCA_{2015/12}} = 4493.17$$\n",
    "\n",
    "e a variação percentual entre eles é de 6.28%."
   ]
  },
  {
   "cell_type": "markdown",
   "id": "1c75c491",
   "metadata": {},
   "source": [
    "### O IPCA acumulado\n",
    "\n",
    "O valor acumulado anual **não** é igual à soma das variações mês a mês do IPCA ao longo do ano! Seja a inflação observada entre dois instantes $t_0$ e $t_f$ definida como\n",
    "\n",
    "$$\\pi(t_0, t_f) := \\frac{\\mathrm{IPCA}_{t_f} - \\mathrm{IPCA}_{t_0}}{\\mathrm{IPCA}_{t_0}}$$\n"
   ]
  },
  {
   "cell_type": "markdown",
   "id": "6e227c28",
   "metadata": {},
   "source": [
    "> A notação $\\pi$ para inflação é padrão."
   ]
  },
  {
   "cell_type": "markdown",
   "id": "1fbe1e70",
   "metadata": {},
   "source": [
    "Se tivermos três meses distintos $t_a < t_b < t_c$, o fato é que\n",
    "\n",
    "$$\\pi(t_a,t_b) + \\pi(t_b, t_c) \\neq \\pi(t_a, t_c)$$"
   ]
  },
  {
   "cell_type": "markdown",
   "id": "c09dfab5",
   "metadata": {},
   "source": [
    "Por outro lado, assim como no caso da Selic, produtos (e não somas) são nossos amigos. Aqui, *é verdade* que\n",
    "\n",
    "$$(1+\\pi(t_a, t_b))(1+\\pi(t_b, t_c)) = 1 + \\pi(t_a, t_c)$$"
   ]
  },
  {
   "cell_type": "markdown",
   "id": "b4864538",
   "metadata": {},
   "source": [
    "e, usando argumentos idênticos aos do caso da Selic, podemos ver que se as variações mês-a-mês são $\\ll 1$, então\n",
    "\n",
    "$$\\pi(t_a, t_c) \\approx \\exp[\\pi(t_a, t_b) + \\pi(t_b, t_c)] - 1$$"
   ]
  },
  {
   "cell_type": "code",
   "execution_count": 134,
   "id": "75794f16",
   "metadata": {},
   "outputs": [],
   "source": [
    "class IpcaLoader(DataLoader):\n",
    "\n",
    "    def load_data_from_range(self, t0=None, tf=None):\n",
    "        \"\"\"\n",
    "        Downloads IPCA data (absolute value of index). \n",
    "        OBS: the resulting DataFrame will have indices in the last day of the month, ie. the entry for\n",
    "        the IPCA value calculated by the end of Oct/2022 will be in index 2022-10-31\n",
    "        \n",
    "        Ref: \n",
    "        https://dados.gov.br/dataset/ia-indice-nacional-de-precos-ao-consumidor-amplo-ipca/\n",
    "        resource/c2c5d52f-4b7d-4f07-a26c-5614b2b54c1e\n",
    "\n",
    "        Example:\n",
    "        \n",
    "        from datetime import datetime\n",
    "        data = IpcaLoader().load_data_from_range(t0=datetime(2010,12,1))\n",
    "        df = data.get_pandas()\n",
    "        \n",
    "\n",
    "        \"\"\"\n",
    "\n",
    "        if tf is None:\n",
    "            tf = pd.to_datetime('today')\n",
    "        \n",
    "        if t0 is None:\n",
    "            t0 = tf - pd.DateOffset(years=1)\n",
    "\n",
    "        t0_str, tf_str = t0.strftime('%Y%m'), tf.strftime('%Y%m')\n",
    "        self._download_series(t0_str, tf_str)\n",
    "        self._json_to_dataframe()\n",
    "        \n",
    "        return self\n",
    "            \n",
    "    def _download_series(self, t0_str, tf_str):\n",
    "        \"\"\"API instructions: https://apisidra.ibge.gov.br/home/ajuda\"\"\"\n",
    "        \n",
    "        url = 'https://apisidra.ibge.gov.br/values/t/1737/n1/all/v/all/' + \\\n",
    "        f'p/{t0_str}-{tf_str}/d/v63%202,v69%202,v2266%2013,v2263%202,v2264%202,' + \\\n",
    "        'v2265%202?formato=json'\n",
    "        \n",
    "        req = requests.get(url)\n",
    "        req.raise_for_status()\n",
    "        \n",
    "        self.json = req.json()\n",
    "        return\n",
    "    \n",
    "    def _json_to_dataframe(self):\n",
    "        \n",
    "        from pandas.tseries.offsets import MonthEnd\n",
    "        \n",
    "        ipca_raw = pd.DataFrame(self.json)\n",
    "        df = ipca_raw[ipca_raw['D2N'].isin(['IPCA - Número-índice (base: dezembro de 1993 = 100)'])]\n",
    "        df['date'] = pd.to_datetime(df['D3C'], format='%Y%m') + MonthEnd(0)\n",
    "        df = df.set_index('date')\n",
    "        df['ipca'] = df['V'].astype(float)\n",
    "        \n",
    "        self.df = df[['ipca']]\n",
    "        return"
   ]
  },
  {
   "cell_type": "code",
   "execution_count": 131,
   "id": "1ab25b5a",
   "metadata": {},
   "outputs": [
    {
     "name": "stdout",
     "output_type": "stream",
     "text": [
      "CPU times: user 40.2 ms, sys: 30.3 ms, total: 70.5 ms\n",
      "Wall time: 5.87 s\n"
     ]
    }
   ],
   "source": [
    "%%time\n",
    "data2 = IpcaLoader().load_data_from_range(t0=datetime(2010, 1,1))\n",
    "ipca = data2.get_pandas()"
   ]
  },
  {
   "cell_type": "code",
   "execution_count": 133,
   "id": "65f07ec8",
   "metadata": {},
   "outputs": [
    {
     "data": {
      "image/png": "[encoded data removed]",
      "text/plain": [
       "<Figure size 432x288 with 1 Axes>"
      ]
     },
     "metadata": {
      "needs_background": "light"
     },
     "output_type": "display_data"
    }
   ],
   "source": [
    "ipca.plot()\n",
    "plt.ylabel(\"IPCA absoluto}\")\n",
    "plt.show()"
   ]
  },
  {
   "cell_type": "markdown",
   "id": "111b4249",
   "metadata": {},
   "source": [
    "**Um exemplo de como a soma das variações mensais é diferente da inflação acumulada**"
   ]
  },
  {
   "cell_type": "code",
   "execution_count": 135,
   "id": "ced03968",
   "metadata": {},
   "outputs": [],
   "source": [
    "ipca_2017 = ipca[ipca.index.to_series().isin(pd.date_range(start='2016-12-01', end='2017-12-31'))]\n",
    "ipca_2017_monthly = (ipca_2017/ipca_2017.shift(1) - 1).dropna()"
   ]
  },
  {
   "cell_type": "code",
   "execution_count": 136,
   "id": "71d4b938",
   "metadata": {},
   "outputs": [
    {
     "name": "stdout",
     "output_type": "stream",
     "text": [
      "Soma das inflações mês-a-mês em 2017: 2.91 %\n"
     ]
    }
   ],
   "source": [
    "print(\"Soma das inflações mês-a-mês em 2017:\", round(100*ipca_2017_monthly.sum().iloc[0],3), \"%\")"
   ]
  },
  {
   "cell_type": "code",
   "execution_count": 138,
   "id": "25151917",
   "metadata": {},
   "outputs": [
    {
     "name": "stdout",
     "output_type": "stream",
     "text": [
      "Inflação acumulada em 2017: 2.947 %\n"
     ]
    }
   ],
   "source": [
    "ipca_2017_year = (ipca.loc['2017-12-31']/ipca.loc['2016-12-31']-1).iloc[0]\n",
    "print(\"Inflação acumulada em 2017:\", round(100*ipca_2017_year,3), \"%\")"
   ]
  },
  {
   "cell_type": "markdown",
   "id": "4133b1f3",
   "metadata": {},
   "source": [
    "Veja que a diferença é sutil, mas não nula."
   ]
  },
  {
   "cell_type": "markdown",
   "id": "74e5e009",
   "metadata": {},
   "source": [
    "## A relação da inflação e a taxa de juros"
   ]
  },
  {
   "cell_type": "markdown",
   "id": "a8607561",
   "metadata": {},
   "source": [
    "Vamos plotar a curva de IPCA acumulado de 12 meses vs. a Selic:\n",
    "    \n",
    "> Por quê? Sabemos que um dos papéis do banco central é o controle da inflação via redefinição da taxa de juros básica, a Selic. Assim, esperamos que cenários de inflação crescente sejam acompanhados de aumentos na taxa de juros (com um delay), e, de forma análoga, que desacelerações na inflação sejam seguidas de reduções na Selic."
   ]
  },
  {
   "cell_type": "code",
   "execution_count": 140,
   "id": "8e04e0eb",
   "metadata": {},
   "outputs": [],
   "source": [
    "ipca['delta_year'] = ipca['ipca']/ipca['ipca'].shift(12) - 1"
   ]
  },
  {
   "cell_type": "code",
   "execution_count": 141,
   "id": "8a7d93f7",
   "metadata": {},
   "outputs": [
    {
     "data": {
      "image/png": "[encoded data removed]",
      "text/plain": [
       "<Figure size 432x288 with 2 Axes>"
      ]
     },
     "metadata": {
      "needs_background": "light"
     },
     "output_type": "display_data"
    }
   ],
   "source": [
    "fig, ax1 = plt.subplots()\n",
    "\n",
    "ax2 = ax1.twinx()\n",
    "ipca_line_year = ax1.plot(ipca.index, ipca.delta_year.values, label='$\\Delta$ IPCA 12 months', color='red')\n",
    "selic_line = ax2.plot(selic.index, selic['valor'], label='Selic', color='blue')\n",
    "lns = ipca_line_year + selic_line \n",
    "labs = [l.get_label() for l in lns]\n",
    "ax1.legend(lns, labs, loc=0)\n",
    "plt.tight_layout()\n",
    "\n",
    "ax1.set_ylabel('IPCA', color='red')\n",
    "ax2.set_ylabel('Selic', color='blue')\n",
    "plt.show()"
   ]
  },
  {
   "cell_type": "markdown",
   "id": "9f563695",
   "metadata": {},
   "source": [
    "De fato:\n",
    "* Quando o IPCA começa a crescer, a Selic é impulsionada também;\n",
    "* Quando o IPCA começa a baixar, a Selic é abaixada gradualmente"
   ]
  },
  {
   "cell_type": "markdown",
   "id": "210bc8bd",
   "metadata": {},
   "source": [
    "## A taxa de juros real: equação de Fisher"
   ]
  },
  {
   "cell_type": "markdown",
   "id": "eeba8baf",
   "metadata": {},
   "source": [
    "Um valor financeiro - 100 reais, por exemplo - sozinho não vale nada. \n",
    "O dinheiro vale aquilo que ele puder comprar; se um saco de arroz custa 10 reais, então 100 reais são 10 sacos, enquanto se o saco custa o dobro, só poderemos comprar 5."
   ]
  },
  {
   "cell_type": "markdown",
   "id": "11f1fe6c",
   "metadata": {},
   "source": [
    "Eu e você fazemos um acordo. Eu te empresto $M_0$ reais agora em $t=0$, a serem devolvidos daqui um tempo $T$. A taxa de juros que colocaremos nesse empréstimo é $i$, de forma que eu receberei de volta $M_0 (1 + i T)$."
   ]
  },
  {
   "cell_type": "markdown",
   "id": "569bd2a5",
   "metadata": {},
   "source": [
    "Porém, durante este tempo, ocorreu inflação. Um bem que antes custava 1 real agora custa $1+\\pi T$ em que $\\pi$ é a inflação média neste período.\n",
    "\n",
    "> Por exemplo, se $T= 1 \\mbox{ ano}$ e o IPCA aumentou de 3000 para 3500 pontos, então \n",
    "\n",
    "$$\\pi = \\frac{3500}{3000}-1 = 16.67 \\mbox{%/ano}$$"
   ]
  },
  {
   "cell_type": "markdown",
   "id": "b2db4f55",
   "metadata": {},
   "source": [
    "> As letras $i$ e $\\pi$ para *juros nominal* e *inflação* são padrão nessa literatura."
   ]
  },
  {
   "cell_type": "markdown",
   "id": "38d45492",
   "metadata": {},
   "source": [
    "Ou seja: se antes eu comprava $x$ bens com meus $M_0$ reais originais, agora, com esses mesmos $M_0$ reais, eu só posso comprar $x/(1+\\pi T)$. Em termos de poder aquisitivo, eu fui de $M_0$ reais em $t = 0$ a \n",
    "\n",
    "$$M_T = M_0 \\frac{1 + iT}{1 + \\pi T}$$"
   ]
  },
  {
   "cell_type": "markdown",
   "id": "eb91a029",
   "metadata": {},
   "source": [
    "em $t=T$: o juros $i$ contribui de forma a aumentar meu poder aquisitivo, enquanto a inflação contribui na direção oposta.\n",
    "\n",
    "A **taxa real de juros** neste período sobre o empréstimo considerada é o valor $r$ tal que \n",
    "\n",
    "$$M_T = M_0 ( 1+r T)$$"
   ]
  },
  {
   "cell_type": "markdown",
   "id": "e50ffe38",
   "metadata": {},
   "source": [
    "Igualando as duas expressões, temos\n",
    "\n",
    "$$\\boxed{1 + rT = \\frac{1+ i T}{1 + \\pi T}}$$"
   ]
  },
  {
   "cell_type": "markdown",
   "id": "c179d090",
   "metadata": {},
   "source": [
    "Esta é a equação de Fisher. Ela costuma ser usada numa forma simplificada, notando que podemos aproximar o denominador via uma série geométrica:\n",
    "\n",
    "$$\\frac{1}{1 + \\pi T} = 1 - \\pi T + O(\\pi^2 T^2)$$"
   ]
  },
  {
   "cell_type": "markdown",
   "id": "bb7b6fb7",
   "metadata": {},
   "source": [
    "de onde\n",
    "\n",
    "$$1 + rT  = 1 + iT - \\pi T + i \\pi T^2 + O(\\pi^2 T^2)$$"
   ]
  },
  {
   "cell_type": "markdown",
   "id": "9f6ca574",
   "metadata": {},
   "source": [
    "Ignorando termos quadráticos em $\\pi$, $i$ e $i \\pi$ obtemos\n",
    "\n",
    "$$\\boxed{r \\approx i - \\pi}$$"
   ]
  },
  {
   "cell_type": "markdown",
   "id": "0b509d4c",
   "metadata": {},
   "source": [
    "Apesar da simplicidade desta equação, sugerimos usar a original, sem aproximações, acima.\n",
    "\n",
    "Note que a taxa de juros real pode mesmo ser negativa, se a inflação for alta demais."
   ]
  },
  {
   "cell_type": "markdown",
   "id": "39787a44",
   "metadata": {},
   "source": [
    "### Cálculo da Selic real "
   ]
  },
  {
   "cell_type": "markdown",
   "id": "d6794d69",
   "metadata": {},
   "source": [
    "Como o IPCA é publicado mensalmente, consideremos empréstimos de horizonte de 1 mês."
   ]
  },
  {
   "cell_type": "markdown",
   "id": "87838d2b",
   "metadata": {},
   "source": [
    "Os cálculos então serão:\n",
    "    \n",
    "$$1 + i_{\\mathrm{mês}\\, t} \\Delta t_\\mathrm{mês}= \\prod_{\\mathrm{dia}\\, d \\, \\mathrm{no\\, mês}\\, t} (1+ \\mathrm{SELIC}_{\\mathrm{dia}\\, d} \\Delta t_\\mathrm{dia})$$ "
   ]
  },
  {
   "cell_type": "markdown",
   "id": "9e2ed220",
   "metadata": {},
   "source": [
    "$$\\pi_{\\mathrm{mês}\\, t} = \\frac{\\mathrm{IPCA}_t}{\\mathrm{IPCA}_{t-1}} - 1$$"
   ]
  },
  {
   "cell_type": "code",
   "execution_count": 258,
   "id": "d20ba387",
   "metadata": {},
   "outputs": [],
   "source": [
    "# construindo uma Selic mensal\n",
    "selic_mensal = selic[['valor']]\n",
    "selic_mensal['mes_ano'] = list(zip(selic_mensal.index.to_series().dt.month,\n",
    "                                  selic_mensal.index.to_series().dt.year))\n",
    "\n",
    "selic_mensal['to_mult'] = selic_mensal['valor']/100 + 1\n",
    "\n",
    "selic_mensal = selic_mensal.groupby('mes_ano')['to_mult'].prod().reset_index()\n",
    "selic_mensal[['mes', 'ano']] = pd.DataFrame(selic_mensal['mes_ano'].tolist())\n",
    "selic_mensal['to_mult'] -= 1\n",
    "selic_mensal = selic_mensal.\\\n",
    "    rename({\"to_mult\": 'juro_nominal_mensal'}, axis=1).\\\n",
    "    drop('mes_ano', axis=1)"
   ]
  },
  {
   "cell_type": "code",
   "execution_count": 257,
   "id": "9030f237",
   "metadata": {},
   "outputs": [
    {
     "data": {
      "text/html": [
       "<div>\n",
       "<style scoped>\n",
       "    .dataframe tbody tr th:only-of-type {\n",
       "        vertical-align: middle;\n",
       "    }\n",
       "\n",
       "    .dataframe tbody tr th {\n",
       "        vertical-align: top;\n",
       "    }\n",
       "\n",
       "    .dataframe thead th {\n",
       "        text-align: right;\n",
       "    }\n",
       "</style>\n",
       "<table border=\"1\" class=\"dataframe\">\n",
       "  <thead>\n",
       "    <tr style=\"text-align: right;\">\n",
       "      <th></th>\n",
       "      <th>juro_nominal_mensal</th>\n",
       "      <th>mes</th>\n",
       "      <th>ano</th>\n",
       "    </tr>\n",
       "  </thead>\n",
       "  <tbody>\n",
       "    <tr>\n",
       "      <th>0</th>\n",
       "      <td>0.006606</td>\n",
       "      <td>1</td>\n",
       "      <td>2010</td>\n",
       "    </tr>\n",
       "    <tr>\n",
       "      <th>1</th>\n",
       "      <td>0.008623</td>\n",
       "      <td>1</td>\n",
       "      <td>2011</td>\n",
       "    </tr>\n",
       "    <tr>\n",
       "      <th>2</th>\n",
       "      <td>0.008910</td>\n",
       "      <td>1</td>\n",
       "      <td>2012</td>\n",
       "    </tr>\n",
       "    <tr>\n",
       "      <th>3</th>\n",
       "      <td>0.006014</td>\n",
       "      <td>1</td>\n",
       "      <td>2013</td>\n",
       "    </tr>\n",
       "    <tr>\n",
       "      <th>4</th>\n",
       "      <td>0.008493</td>\n",
       "      <td>1</td>\n",
       "      <td>2014</td>\n",
       "    </tr>\n",
       "  </tbody>\n",
       "</table>\n",
       "</div>"
      ],
      "text/plain": [
       "   juro_nominal_mensal  mes   ano\n",
       "0             0.006606    1  2010\n",
       "1             0.008623    1  2011\n",
       "2             0.008910    1  2012\n",
       "3             0.006014    1  2013\n",
       "4             0.008493    1  2014"
      ]
     },
     "execution_count": 257,
     "metadata": {},
     "output_type": "execute_result"
    }
   ],
   "source": [
    "selic_mensal.head(5)"
   ]
  },
  {
   "cell_type": "code",
   "execution_count": 307,
   "id": "b8e8268c",
   "metadata": {},
   "outputs": [
    {
     "data": {
      "text/html": [
       "<div>\n",
       "<style scoped>\n",
       "    .dataframe tbody tr th:only-of-type {\n",
       "        vertical-align: middle;\n",
       "    }\n",
       "\n",
       "    .dataframe tbody tr th {\n",
       "        vertical-align: top;\n",
       "    }\n",
       "\n",
       "    .dataframe thead th {\n",
       "        text-align: right;\n",
       "    }\n",
       "</style>\n",
       "<table border=\"1\" class=\"dataframe\">\n",
       "  <thead>\n",
       "    <tr style=\"text-align: right;\">\n",
       "      <th></th>\n",
       "      <th>ipca</th>\n",
       "      <th>mes</th>\n",
       "      <th>ano</th>\n",
       "    </tr>\n",
       "    <tr>\n",
       "      <th>date</th>\n",
       "      <th></th>\n",
       "      <th></th>\n",
       "      <th></th>\n",
       "    </tr>\n",
       "  </thead>\n",
       "  <tbody>\n",
       "    <tr>\n",
       "      <th>2010-08-01</th>\n",
       "      <td>0.003387</td>\n",
       "      <td>8</td>\n",
       "      <td>2010</td>\n",
       "    </tr>\n",
       "    <tr>\n",
       "      <th>2010-09-01</th>\n",
       "      <td>0.002908</td>\n",
       "      <td>9</td>\n",
       "      <td>2010</td>\n",
       "    </tr>\n",
       "    <tr>\n",
       "      <th>2010-10-01</th>\n",
       "      <td>0.003241</td>\n",
       "      <td>10</td>\n",
       "      <td>2010</td>\n",
       "    </tr>\n",
       "    <tr>\n",
       "      <th>2010-11-01</th>\n",
       "      <td>0.003619</td>\n",
       "      <td>11</td>\n",
       "      <td>2010</td>\n",
       "    </tr>\n",
       "    <tr>\n",
       "      <th>2010-12-01</th>\n",
       "      <td>0.003910</td>\n",
       "      <td>12</td>\n",
       "      <td>2010</td>\n",
       "    </tr>\n",
       "  </tbody>\n",
       "</table>\n",
       "</div>"
      ],
      "text/plain": [
       "                ipca  mes   ano\n",
       "date                           \n",
       "2010-08-01  0.003387    8  2010\n",
       "2010-09-01  0.002908    9  2010\n",
       "2010-10-01  0.003241   10  2010\n",
       "2010-11-01  0.003619   11  2010\n",
       "2010-12-01  0.003910   12  2010"
      ]
     },
     "execution_count": 307,
     "metadata": {},
     "output_type": "execute_result"
    }
   ],
   "source": [
    "# construindo uma Selic mensal\n",
    "ipca_mensal = ipca_delta[['ipca']]\n",
    "ipca_mensal['mes'] = ipca_mensal.index.to_series().dt.month\n",
    "ipca_mensal['ano'] = ipca_mensal.index.to_series().dt.year\n",
    "\n",
    "ipca_mensal.head()"
   ]
  },
  {
   "cell_type": "code",
   "execution_count": 308,
   "id": "ce20a1db",
   "metadata": {},
   "outputs": [
    {
     "data": {
      "image/png": "[encoded data removed]",
      "text/plain": [
       "<Figure size 432x288 with 1 Axes>"
      ]
     },
     "metadata": {
      "needs_background": "light"
     },
     "output_type": "display_data"
    }
   ],
   "source": [
    "# juntando as duas\n",
    "ipca_selic = ipca_mensal.merge(selic_mensal, on=['mes', 'ano'], how='inner')\n",
    "ipca_selic.index = pd.to_datetime(ipca_selic['ano'].astype(str) + '/' + ipca_selic['mes'].astype(str), format='%Y/%m')\n",
    "ipca_selic = ipca_selic[['mes', 'ano', 'ipca', 'juro_nominal_mensal']]\n",
    "\n",
    "ipca_selic[['ipca', 'juro_nominal_mensal']].plot()\n",
    "plt.show()"
   ]
  },
  {
   "cell_type": "code",
   "execution_count": 313,
   "id": "abaee41f",
   "metadata": {},
   "outputs": [
    {
     "data": {
      "image/png": "[encoded data removed]",
      "text/plain": [
       "<Figure size 432x288 with 1 Axes>"
      ]
     },
     "metadata": {
      "needs_background": "light"
     },
     "output_type": "display_data"
    }
   ],
   "source": [
    "# calculando a taxa real\n",
    "ipca_selic['real'] = 100*((1 + ipca_selic['juro_nominal_mensal'])/(1 + ipca_selic['ipca']) - 1)\n",
    "\n",
    "fig, ax = plt.subplots()\n",
    "ipca_selic['real'].plot(ax=ax)\n",
    "plt.axhline(0, color='gray')\n",
    "plt.title('Selic real mês-a-mês, em valores de %/mês')\n",
    "plt.ylabel('r [%/mês]')\n",
    "plt.show()"
   ]
  },
  {
   "cell_type": "markdown",
   "id": "c3ecb7cf",
   "metadata": {},
   "source": [
    "Note que, durante a pandemia do Covid-19, a taxa de juros real ficou negativa."
   ]
  },
  {
   "cell_type": "markdown",
   "id": "674d960f",
   "metadata": {},
   "source": [
    "O que essa curva nos ensina? Basicamente, que podemos esperar taxas de juros reais mensalmente na ordem de 0.2%-0.8%. Ou seja, colocando 1000 reais no início do mês, teremos um ganho real de 2-8 reais no fim do mês."
   ]
  },
  {
   "cell_type": "markdown",
   "id": "7a712171",
   "metadata": {},
   "source": [
    "> Notícias sobre a taxa de juros real: [link](https://valorinveste.globo.com/mercados/moedas-e-juros/noticia/2022/09/21/brasil-continua-com-o-juro-real-mais-alto-do-mundo-apos-manutencao-da-selic.ghtml)\n",
    "\n"
   ]
  },
  {
   "cell_type": "markdown",
   "id": "f3381543",
   "metadata": {},
   "source": [
    "# Interlúdio: bonds"
   ]
  },
  {
   "cell_type": "markdown",
   "id": "b4cdf256",
   "metadata": {},
   "source": [
    "# 4. Juros - no longo-prazo\n",
    "\n",
    "https://www.investopedia.com/ask/answers/who-determines-interest-rates/\n",
    "\n",
    "A taxa de juros não é estática no tempo. No curto-prazo, ela é determinada pela Selic, ie. via decisão do Copom como mecanismo de controle de inflação e para impulsionar o desenvolvimento econômico.\n",
    "\n",
    "No "
   ]
  },
  {
   "cell_type": "code",
   "execution_count": null,
   "id": "c6584f5b",
   "metadata": {},
   "outputs": [],
   "source": []
  },
  {
   "cell_type": "code",
   "execution_count": null,
   "id": "c8facc0a",
   "metadata": {},
   "outputs": [],
   "source": [
    "1. Tesouro IPCA (NTN-B Principal) \n",
    "\n",
    "O Tesouro IPCA é um título híbrido do Tesouro Direto. "
   ]
  }
 ],
 "metadata": {
  "kernelspec": {
   "display_name": "Python 3",
   "language": "python",
   "name": "python3"
  },
  "language_info": {
   "codemirror_mode": {
    "name": "ipython",
    "version": 3
   },
   "file_extension": ".py",
   "mimetype": "text/x-python",
   "name": "python",
   "nbconvert_exporter": "python",
   "pygments_lexer": "ipython3",
   "version": "3.8.8"
  }
 },
 "nbformat": 4,
 "nbformat_minor": 5
}
